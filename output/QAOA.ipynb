{
  "nbformat": 4,
  "nbformat_minor": 0,
  "metadata": {
    "colab": {
      "provenance": []
    },
    "kernelspec": {
      "name": "python3",
      "display_name": "Python 3"
    },
    "language_info": {
      "name": "python"
    }
  },
  "cells": [
    {
      "cell_type": "code",
      "source": [
        "!pip install pygltflib"
      ],
      "metadata": {
        "colab": {
          "base_uri": "https://localhost:8080/"
        },
        "id": "z-qjMh0lDMOg",
        "outputId": "8875022e-5700-4b1b-af6e-2ac62ae322d1"
      },
      "execution_count": 10,
      "outputs": [
        {
          "output_type": "stream",
          "name": "stdout",
          "text": [
            "Collecting pygltflib\n",
            "  Downloading pygltflib-1.16.3.tar.gz (42 kB)\n",
            "\u001b[?25l     \u001b[90m━━━━━━━━━━━━━━━━━━━━━━━━━━━━━━━━━━━━━━━━\u001b[0m \u001b[32m0.0/42.9 kB\u001b[0m \u001b[31m?\u001b[0m eta \u001b[36m-:--:--\u001b[0m\r\u001b[2K     \u001b[90m━━━━━━━━━━━━━━━━━━━━━━━━━━━━━━━━━━━━━━━━\u001b[0m \u001b[32m42.9/42.9 kB\u001b[0m \u001b[31m1.8 MB/s\u001b[0m eta \u001b[36m0:00:00\u001b[0m\n",
            "\u001b[?25h  Preparing metadata (setup.py) ... \u001b[?25l\u001b[?25hdone\n",
            "Collecting dataclasses-json>=0.0.25 (from pygltflib)\n",
            "  Downloading dataclasses_json-0.6.7-py3-none-any.whl.metadata (25 kB)\n",
            "Requirement already satisfied: deprecated in /usr/local/lib/python3.10/dist-packages (from pygltflib) (1.2.15)\n",
            "Collecting marshmallow<4.0.0,>=3.18.0 (from dataclasses-json>=0.0.25->pygltflib)\n",
            "  Downloading marshmallow-3.23.1-py3-none-any.whl.metadata (7.5 kB)\n",
            "Collecting typing-inspect<1,>=0.4.0 (from dataclasses-json>=0.0.25->pygltflib)\n",
            "  Downloading typing_inspect-0.9.0-py3-none-any.whl.metadata (1.5 kB)\n",
            "Requirement already satisfied: wrapt<2,>=1.10 in /usr/local/lib/python3.10/dist-packages (from deprecated->pygltflib) (1.16.0)\n",
            "Requirement already satisfied: packaging>=17.0 in /usr/local/lib/python3.10/dist-packages (from marshmallow<4.0.0,>=3.18.0->dataclasses-json>=0.0.25->pygltflib) (24.2)\n",
            "Collecting mypy-extensions>=0.3.0 (from typing-inspect<1,>=0.4.0->dataclasses-json>=0.0.25->pygltflib)\n",
            "  Downloading mypy_extensions-1.0.0-py3-none-any.whl.metadata (1.1 kB)\n",
            "Requirement already satisfied: typing-extensions>=3.7.4 in /usr/local/lib/python3.10/dist-packages (from typing-inspect<1,>=0.4.0->dataclasses-json>=0.0.25->pygltflib) (4.12.2)\n",
            "Downloading dataclasses_json-0.6.7-py3-none-any.whl (28 kB)\n",
            "Downloading marshmallow-3.23.1-py3-none-any.whl (49 kB)\n",
            "\u001b[2K   \u001b[90m━━━━━━━━━━━━━━━━━━━━━━━━━━━━━━━━━━━━━━━━\u001b[0m \u001b[32m49.5/49.5 kB\u001b[0m \u001b[31m4.0 MB/s\u001b[0m eta \u001b[36m0:00:00\u001b[0m\n",
            "\u001b[?25hDownloading typing_inspect-0.9.0-py3-none-any.whl (8.8 kB)\n",
            "Downloading mypy_extensions-1.0.0-py3-none-any.whl (4.7 kB)\n",
            "Building wheels for collected packages: pygltflib\n",
            "  Building wheel for pygltflib (setup.py) ... \u001b[?25l\u001b[?25hdone\n",
            "  Created wheel for pygltflib: filename=pygltflib-1.16.3-py3-none-any.whl size=27408 sha256=eaa663c1d58db41a1e0b4bb81950b7c3858ac27d6e967d1d667de96479058cac\n",
            "  Stored in directory: /root/.cache/pip/wheels/de/4a/cc/0d166b319ddda5007d0dfa6087346a30c4713b0fdaeaeff304\n",
            "Successfully built pygltflib\n",
            "Installing collected packages: mypy-extensions, marshmallow, typing-inspect, dataclasses-json, pygltflib\n",
            "Successfully installed dataclasses-json-0.6.7 marshmallow-3.23.1 mypy-extensions-1.0.0 pygltflib-1.16.3 typing-inspect-0.9.0\n"
          ]
        }
      ]
    },
    {
      "cell_type": "code",
      "source": [
        "!pip install qiskit_optimization\n",
        "!pip install dwave-neal"
      ],
      "metadata": {
        "colab": {
          "base_uri": "https://localhost:8080/"
        },
        "id": "hNb1N9WlNwWR",
        "outputId": "94137733-b4a6-4309-e57a-97d8af901dee"
      },
      "execution_count": 8,
      "outputs": [
        {
          "output_type": "stream",
          "name": "stdout",
          "text": [
            "Requirement already satisfied: qiskit_optimization in /usr/local/lib/python3.10/dist-packages (0.6.1)\n",
            "Requirement already satisfied: qiskit>=0.44 in /usr/local/lib/python3.10/dist-packages (from qiskit_optimization) (1.3.0)\n",
            "Requirement already satisfied: qiskit-algorithms>=0.2.0 in /usr/local/lib/python3.10/dist-packages (from qiskit_optimization) (0.3.1)\n",
            "Requirement already satisfied: scipy>=1.9.0 in /usr/local/lib/python3.10/dist-packages (from qiskit_optimization) (1.13.1)\n",
            "Requirement already satisfied: numpy>=1.17 in /usr/local/lib/python3.10/dist-packages (from qiskit_optimization) (1.26.4)\n",
            "Requirement already satisfied: docplex!=2.24.231,>=2.21.207 in /usr/local/lib/python3.10/dist-packages (from qiskit_optimization) (2.28.240)\n",
            "Requirement already satisfied: setuptools>=40.1.0 in /usr/local/lib/python3.10/dist-packages (from qiskit_optimization) (75.1.0)\n",
            "Requirement already satisfied: networkx>=2.6.3 in /usr/local/lib/python3.10/dist-packages (from qiskit_optimization) (3.4.2)\n",
            "Requirement already satisfied: six in /usr/local/lib/python3.10/dist-packages (from docplex!=2.24.231,>=2.21.207->qiskit_optimization) (1.16.0)\n",
            "Requirement already satisfied: rustworkx>=0.15.0 in /usr/local/lib/python3.10/dist-packages (from qiskit>=0.44->qiskit_optimization) (0.15.1)\n",
            "Requirement already satisfied: sympy>=1.3 in /usr/local/lib/python3.10/dist-packages (from qiskit>=0.44->qiskit_optimization) (1.13.1)\n",
            "Requirement already satisfied: dill>=0.3 in /usr/local/lib/python3.10/dist-packages (from qiskit>=0.44->qiskit_optimization) (0.3.9)\n",
            "Requirement already satisfied: python-dateutil>=2.8.0 in /usr/local/lib/python3.10/dist-packages (from qiskit>=0.44->qiskit_optimization) (2.8.2)\n",
            "Requirement already satisfied: stevedore>=3.0.0 in /usr/local/lib/python3.10/dist-packages (from qiskit>=0.44->qiskit_optimization) (5.4.0)\n",
            "Requirement already satisfied: typing-extensions in /usr/local/lib/python3.10/dist-packages (from qiskit>=0.44->qiskit_optimization) (4.12.2)\n",
            "Requirement already satisfied: symengine<0.14,>=0.11 in /usr/local/lib/python3.10/dist-packages (from qiskit>=0.44->qiskit_optimization) (0.13.0)\n",
            "Requirement already satisfied: pbr>=2.0.0 in /usr/local/lib/python3.10/dist-packages (from stevedore>=3.0.0->qiskit>=0.44->qiskit_optimization) (6.1.0)\n",
            "Requirement already satisfied: mpmath<1.4,>=1.1.0 in /usr/local/lib/python3.10/dist-packages (from sympy>=1.3->qiskit>=0.44->qiskit_optimization) (1.3.0)\n",
            "Collecting dwave-neal\n",
            "  Downloading dwave_neal-0.6.0-py3-none-any.whl.metadata (3.0 kB)\n",
            "Collecting dwave-samplers<2.0.0,>=1.0.0 (from dwave-neal)\n",
            "  Downloading dwave_samplers-1.4.0-cp310-cp310-manylinux_2_17_x86_64.manylinux2014_x86_64.whl.metadata (9.9 kB)\n",
            "Requirement already satisfied: numpy<3.0.0,>=1.19.0 in /usr/local/lib/python3.10/dist-packages (from dwave-samplers<2.0.0,>=1.0.0->dwave-neal) (1.26.4)\n",
            "Collecting dimod<0.13.0,>=0.12.13 (from dwave-samplers<2.0.0,>=1.0.0->dwave-neal)\n",
            "  Downloading dimod-0.12.18-cp310-cp310-manylinux_2_17_x86_64.manylinux2014_x86_64.whl.metadata (4.0 kB)\n",
            "Requirement already satisfied: networkx>=3.0 in /usr/local/lib/python3.10/dist-packages (from dwave-samplers<2.0.0,>=1.0.0->dwave-neal) (3.4.2)\n",
            "Downloading dwave_neal-0.6.0-py3-none-any.whl (8.7 kB)\n",
            "Downloading dwave_samplers-1.4.0-cp310-cp310-manylinux_2_17_x86_64.manylinux2014_x86_64.whl (6.7 MB)\n",
            "\u001b[2K   \u001b[90m━━━━━━━━━━━━━━━━━━━━━━━━━━━━━━━━━━━━━━━━\u001b[0m \u001b[32m6.7/6.7 MB\u001b[0m \u001b[31m4.6 MB/s\u001b[0m eta \u001b[36m0:00:00\u001b[0m\n",
            "\u001b[?25hDownloading dimod-0.12.18-cp310-cp310-manylinux_2_17_x86_64.manylinux2014_x86_64.whl (9.0 MB)\n",
            "\u001b[2K   \u001b[90m━━━━━━━━━━━━━━━━━━━━━━━━━━━━━━━━━━━━━━━━\u001b[0m \u001b[32m9.0/9.0 MB\u001b[0m \u001b[31m5.3 MB/s\u001b[0m eta \u001b[36m0:00:00\u001b[0m\n",
            "\u001b[?25hInstalling collected packages: dimod, dwave-samplers, dwave-neal\n",
            "Successfully installed dimod-0.12.18 dwave-neal-0.6.0 dwave-samplers-1.4.0\n"
          ]
        }
      ]
    },
    {
      "cell_type": "code",
      "source": [
        "pip install qiskit"
      ],
      "metadata": {
        "colab": {
          "base_uri": "https://localhost:8080/"
        },
        "id": "kCUzhz3cKLQ_",
        "outputId": "a0242cc3-0d46-4bef-8680-323eb70105d8"
      },
      "execution_count": 4,
      "outputs": [
        {
          "output_type": "stream",
          "name": "stdout",
          "text": [
            "Collecting qiskit\n",
            "  Downloading qiskit-1.3.0-cp39-abi3-manylinux_2_17_x86_64.manylinux2014_x86_64.whl.metadata (12 kB)\n",
            "Collecting rustworkx>=0.15.0 (from qiskit)\n",
            "  Downloading rustworkx-0.15.1-cp38-abi3-manylinux_2_17_x86_64.manylinux2014_x86_64.whl.metadata (9.9 kB)\n",
            "Requirement already satisfied: numpy<3,>=1.17 in /usr/local/lib/python3.10/dist-packages (from qiskit) (1.26.4)\n",
            "Requirement already satisfied: scipy>=1.5 in /usr/local/lib/python3.10/dist-packages (from qiskit) (1.13.1)\n",
            "Requirement already satisfied: sympy>=1.3 in /usr/local/lib/python3.10/dist-packages (from qiskit) (1.13.1)\n",
            "Collecting dill>=0.3 (from qiskit)\n",
            "  Downloading dill-0.3.9-py3-none-any.whl.metadata (10 kB)\n",
            "Requirement already satisfied: python-dateutil>=2.8.0 in /usr/local/lib/python3.10/dist-packages (from qiskit) (2.8.2)\n",
            "Collecting stevedore>=3.0.0 (from qiskit)\n",
            "  Downloading stevedore-5.4.0-py3-none-any.whl.metadata (2.3 kB)\n",
            "Requirement already satisfied: typing-extensions in /usr/local/lib/python3.10/dist-packages (from qiskit) (4.12.2)\n",
            "Collecting symengine<0.14,>=0.11 (from qiskit)\n",
            "  Downloading symengine-0.13.0-cp310-cp310-manylinux_2_17_x86_64.manylinux2014_x86_64.whl.metadata (1.2 kB)\n",
            "Requirement already satisfied: six>=1.5 in /usr/local/lib/python3.10/dist-packages (from python-dateutil>=2.8.0->qiskit) (1.16.0)\n",
            "Collecting pbr>=2.0.0 (from stevedore>=3.0.0->qiskit)\n",
            "  Downloading pbr-6.1.0-py2.py3-none-any.whl.metadata (3.4 kB)\n",
            "Requirement already satisfied: mpmath<1.4,>=1.1.0 in /usr/local/lib/python3.10/dist-packages (from sympy>=1.3->qiskit) (1.3.0)\n",
            "Downloading qiskit-1.3.0-cp39-abi3-manylinux_2_17_x86_64.manylinux2014_x86_64.whl (6.7 MB)\n",
            "\u001b[2K   \u001b[90m━━━━━━━━━━━━━━━━━━━━━━━━━━━━━━━━━━━━━━━━\u001b[0m \u001b[32m6.7/6.7 MB\u001b[0m \u001b[31m19.1 MB/s\u001b[0m eta \u001b[36m0:00:00\u001b[0m\n",
            "\u001b[?25hDownloading dill-0.3.9-py3-none-any.whl (119 kB)\n",
            "\u001b[2K   \u001b[90m━━━━━━━━━━━━━━━━━━━━━━━━━━━━━━━━━━━━━━━━\u001b[0m \u001b[32m119.4/119.4 kB\u001b[0m \u001b[31m9.3 MB/s\u001b[0m eta \u001b[36m0:00:00\u001b[0m\n",
            "\u001b[?25hDownloading rustworkx-0.15.1-cp38-abi3-manylinux_2_17_x86_64.manylinux2014_x86_64.whl (2.0 MB)\n",
            "\u001b[2K   \u001b[90m━━━━━━━━━━━━━━━━━━━━━━━━━━━━━━━━━━━━━━━━\u001b[0m \u001b[32m2.0/2.0 MB\u001b[0m \u001b[31m57.4 MB/s\u001b[0m eta \u001b[36m0:00:00\u001b[0m\n",
            "\u001b[?25hDownloading stevedore-5.4.0-py3-none-any.whl (49 kB)\n",
            "\u001b[2K   \u001b[90m━━━━━━━━━━━━━━━━━━━━━━━━━━━━━━━━━━━━━━━━\u001b[0m \u001b[32m49.5/49.5 kB\u001b[0m \u001b[31m4.3 MB/s\u001b[0m eta \u001b[36m0:00:00\u001b[0m\n",
            "\u001b[?25hDownloading symengine-0.13.0-cp310-cp310-manylinux_2_17_x86_64.manylinux2014_x86_64.whl (49.7 MB)\n",
            "\u001b[2K   \u001b[90m━━━━━━━━━━━━━━━━━━━━━━━━━━━━━━━━━━━━━━━━\u001b[0m \u001b[32m49.7/49.7 MB\u001b[0m \u001b[31m13.8 MB/s\u001b[0m eta \u001b[36m0:00:00\u001b[0m\n",
            "\u001b[?25hDownloading pbr-6.1.0-py2.py3-none-any.whl (108 kB)\n",
            "\u001b[2K   \u001b[90m━━━━━━━━━━━━━━━━━━━━━━━━━━━━━━━━━━━━━━━━\u001b[0m \u001b[32m108.5/108.5 kB\u001b[0m \u001b[31m8.9 MB/s\u001b[0m eta \u001b[36m0:00:00\u001b[0m\n",
            "\u001b[?25hInstalling collected packages: symengine, rustworkx, pbr, dill, stevedore, qiskit\n",
            "Successfully installed dill-0.3.9 pbr-6.1.0 qiskit-1.3.0 rustworkx-0.15.1 stevedore-5.4.0 symengine-0.13.0\n"
          ]
        }
      ]
    },
    {
      "cell_type": "code",
      "source": [
        "!git clone https://github.com/aqarios/PushQuantumSP"
      ],
      "metadata": {
        "colab": {
          "base_uri": "https://localhost:8080/"
        },
        "id": "YTdNGeqgEXQV",
        "outputId": "7458bb67-2dbe-4fda-b5c1-07a0185bc95f"
      },
      "execution_count": 2,
      "outputs": [
        {
          "output_type": "stream",
          "name": "stdout",
          "text": [
            "Cloning into 'PushQuantumSP'...\n",
            "remote: Enumerating objects: 28, done.\u001b[K\n",
            "remote: Counting objects: 100% (28/28), done.\u001b[K\n",
            "remote: Compressing objects: 100% (16/16), done.\u001b[K\n",
            "remote: Total 28 (delta 9), reused 28 (delta 9), pack-reused 0 (from 0)\u001b[K\n",
            "Receiving objects: 100% (28/28), 4.00 MiB | 11.15 MiB/s, done.\n",
            "Resolving deltas: 100% (9/9), done.\n"
          ]
        }
      ]
    },
    {
      "cell_type": "code",
      "source": [
        "#This script demonstrates how to solve a combinatorial\n",
        "#optimization problem using a QUBO (Quadratic Unconstrained Binary Optimization) formulation\n",
        "#with Simulated Annealing as the solver.\n",
        "\n",
        "import neal\n",
        "\n",
        "from PushQuantumSP.data.sp_data import SPData\n",
        "from PushQuantumSP.models import SPQuboBinary\n",
        "from PushQuantumSP.evaluation.evaluation import SPEvaluation\n",
        "from PushQuantumSP.plotting.sp_plot import SPPlot\n",
        "\n",
        "params = {\"version\": 1, \"num_cols\": 2, \"rad_max\": 2.4}\n",
        "data = SPData().gen_problem(**params)\n",
        "plt = SPPlot(data).plot_problem()\n",
        "plt.show()\n",
        "\n",
        "config = {\"num_reads\":1000,\"num_sweeps\":1000}\n",
        "solve_func = neal.SimulatedAnnealingSampler().sample_qubo\n",
        "qubo_model_bin = SPQuboBinary(data)\n",
        "answer = qubo_model_bin.solve(solve_func, **config)\n",
        "\n",
        "evaluation = SPEvaluation(data, answer['solution'])\n",
        "print(f\"solution clean: {evaluation.solution}\")\n",
        "\n",
        "print(f\"objective = {evaluation.get_objective()}\")\n",
        "for constraint, violations in evaluation.check_solution().items():\n",
        "    if len(violations) > 0:\n",
        "        print(f\"constraint {constraint} was violated {len(violations)} times\")\n",
        "plt = SPPlot(data, evaluation).plot_solution(hide_never_covered = True)\n",
        "plt.show()\n",
        "\n",
        "print(dir(qubo_model_bin))\n",
        "\n",
        "\n",
        "# Get the Q matrix as a dictionary\n",
        "\n",
        "Q_matrix = qubo_model_bin._QuboSPBinary__compute_QUBO_Matrix_binary(qubo_model_bin.P1, qubo_model_bin.P2, qubo_model_bin.P3)  # Replace with the actual attribute name\n",
        "print(\"QUBO Matrix (Q):\")\n",
        "print(Q_matrix)"
      ],
      "metadata": {
        "colab": {
          "base_uri": "https://localhost:8080/",
          "height": 1000
        },
        "id": "WyvSCsMvGR-q",
        "outputId": "ff652648-7f9a-4f14-ae80-cacb9ebe5617"
      },
      "execution_count": 113,
      "outputs": [
        {
          "output_type": "display_data",
          "data": {
            "text/plain": [
              "<Figure size 640x480 with 1 Axes>"
            ],
            "image/png": "[encoded data removed]"
          },
          "metadata": {}
        },
        {
          "output_type": "stream",
          "name": "stdout",
          "text": [
            "solution clean: {'x_1.0_0.0_2.5_0_-10': 1, 'x_0.0_0.0_2.5_0_-10': 0}\n",
            "objective = 1\n"
          ]
        },
        {
          "output_type": "display_data",
          "data": {
            "text/plain": [
              "<Figure size 640x480 with 1 Axes>"
            ],
            "image/png": "[encoded data removed]"
          },
          "metadata": {}
        },
        {
          "output_type": "stream",
          "name": "stdout",
          "text": [
            "['P1', 'P2', 'P3', '_QuboSPBinary__compute_QUBO_Matrix_binary', '_QuboSPBinary__inverter_matrix', '_QuboSPBinary__is_in_list', '_QuboSPBinary__needed_bitnum', '__class__', '__delattr__', '__dict__', '__dir__', '__doc__', '__eq__', '__format__', '__ge__', '__getattribute__', '__gt__', '__hash__', '__init__', '__init_subclass__', '__le__', '__lt__', '__module__', '__ne__', '__new__', '__reduce__', '__reduce_ex__', '__repr__', '__setattr__', '__sizeof__', '__str__', '__subclasshook__', '__weakref__', 'gra', 'mandatoryLidars', 'model', 'solve', 'usedLidars']\n",
            "QUBO Matrix (Q):\n",
            "[[-3.  4. -2. -2.]\n",
            " [ 4. -3. -2. -2.]\n",
            " [-2. -2.  6.  0.]\n",
            " [-2. -2.  0.  6.]]\n"
          ]
        }
      ]
    },
    {
      "cell_type": "code",
      "source": [
        "from qiskit.quantum_info import SparsePauliOp\n",
        "from qiskit.circuit.library import qaoa_ansatz\n",
        "import numpy as np\n",
        "\n",
        "from qiskit.circuit.library import QAOAAnsatz\n",
        "\n",
        "# 1. Define the Cost and Mixer Hamiltonians\n",
        "\n",
        "# Cost Hamiltonian (Example: H_c = Z0 * Z1 + Z1 * Z2)\n",
        "\n",
        "        #THIS IS MY COST HAMILTONIAN#\n",
        "#cost_hamiltonian = SparsePauliOp([\"ZZII\", \"IIZZ\", \"ZIIZ\"])\n",
        "matrix = Q_matrix\n",
        "n_cols, n_rows = Q_matrix.shape\n",
        "N =  n_cols  # Number of qubits\n",
        "\n",
        "# Initialize lists for Pauli strings and coefficients\n",
        "pauli_strings = []\n",
        "coeffs = []\n",
        "\n",
        "# Diagonal terms: Identity terms (on qubits 1, 2, 3, 4)\n",
        "for i in range(N):\n",
        "    # Identity term for the i-th qubit\n",
        "    pauli_string = ['I'] * N\n",
        "    pauli_string[i] = 'Z'  # Set the i-th qubit to Z (Identity - Z)\n",
        "    pauli_strings.append(''.join(pauli_string))\n",
        "    coeffs.append(-matrix[i, i]/2) # Diagonal coefficients (self-interaction)\n",
        "\n",
        "# Off-diagonal terms: Interaction terms between qubits\n",
        "for i in range(N):\n",
        "    for j in range(i + 1, N):\n",
        "        if matrix[i, j] != 0:  # Non-zero off-diagonal term\n",
        "            pauli_string = ['I'] * N\n",
        "            # Set both i-th and j-th qubits to \"I - Z\" (or Z on both qubits)\n",
        "            pauli_string[i] = 'Z'  # Apply Z operator on qubit i\n",
        "            pauli_string[j] = 'Z'  # Apply Z operator on qubit j\n",
        "            pauli_strings.append(''.join(pauli_string))\n",
        "            # Add the coefficient matrix[i, j] divided by 2 (since we use (I - Z)/2)\n",
        "            coeffs.append(matrix[i, j] / 2)  # Off-diagonal coefficients\n",
        "\n",
        "# Create the SparsePauliOp Hamiltonian\n",
        "#plt._copy_docstring_and_deprecatorshamiltonian = SparsePauliOp(pauli_strings, coeffs)\n",
        "cost_hamiltonian = SparsePauliOp(pauli_strings, coeffs)\n",
        "\n",
        "# Print the Hamiltonian\n",
        "print(cost_hamiltonian)\n",
        "\n",
        "# Generate Pauli strings for the cycle\n",
        "pauli_strings = []\n",
        "coeffs = []\n",
        "# For X operators\n",
        "for i in range(N):\n",
        "    pauli_string = ['I'] * N\n",
        "    pauli_string[i] = 'X'  # Apply X on the i-th qubit\n",
        "    pauli_strings.append(''.join(pauli_string))\n",
        "    coeffs.append(1.0)  # Example coefficient for X\n",
        "\n",
        "# For Z operators\n",
        "#for i in range(N):\n",
        "    #pauli_string = ['I'] * N\n",
        "    #pauli_string[i] = 'Z'  # Apply Z on the i-th qubit\n",
        "    #pauli_strings.append(''.join(pauli_string))\n",
        "    #coeffs.append(-alpha * N / 2)  # Example coefficient for Z\n",
        "\n",
        "# Create the SparsePauliOp Hamiltonian\n",
        "mix_hamiltonian = SparsePauliOp(pauli_strings, coeffs)\n",
        "\n",
        "print(mix_hamiltonian)\n",
        "        #THIS IS MY MIXING HAMILTONIAN#\n",
        "#mix_hamiltonian = SparsePauliOp([\"XIII\", \"IIII\", \"ZIII\"],  # Pauli strings: Z and X on the first qubit\n",
        "    #coeffs=np.array([1.0,alpha*N/2,-alpha*N/2]))\n",
        "\n",
        "\n",
        "\n",
        "\n",
        "# 2. Initialize the QAOAAnsatz\n",
        "p = 10  # Number of layers\n",
        "qaoa_ansatz = QAOAAnsatz(cost_operator=cost_hamiltonian,\n",
        "                         reps=p,\n",
        "                        mixer_operator=mix_hamiltonian)\n",
        "\n",
        "# Get the parameters (gammas and betas)\n",
        "parameters = qaoa_ansatz.parameters\n",
        "\n",
        "# Print the circuit\n",
        "#print(\"QAOA Ansatz Circuit:\")\n",
        "#print(qaoa_ansatz.decompose().draw())\n",
        "\n",
        "\n",
        "from qiskit import QuantumCircuit\n",
        "from qiskit.quantum_info import Statevector\n",
        "from scipy.optimize import minimize\n",
        "# 3. Define the objective function for optimization\n",
        "\n",
        "\n",
        "\n",
        "def objective_function(params):\n",
        "    # Bind the parameters (gammas and betas) to the QAOA ansatz\n",
        "    qc_bound = qaoa_ansatz.assign_parameters(params)\n",
        "\n",
        "    # Simulate the circuit using Statevector\n",
        "    statevector = Statevector.from_instruction(qc_bound)\n",
        "\n",
        "    # Calculate the expectation value of the cost Hamiltonian\n",
        "    expectation_value = statevector.expectation_value(cost_hamiltonian)\n",
        "\n",
        "    return expectation_value.real  # We only care about the real part\n",
        "\n",
        "# 4. Initialize random values for gamma and beta\n",
        "initial_parameters = np.random.rand(len(qaoa_ansatz.parameters))  # Random initial parameters for gamma and beta\n",
        "\n",
        "# 5. Use COBYLA from scipy to minimize the objective function\n",
        "result = minimize(objective_function, initial_parameters, method='COBYLA', options={'maxiter': 100})\n",
        "\n",
        "# Print the optimized parameters\n",
        "print(\"\\nOptimized Parameters:\")\n",
        "print(result.x)\n",
        "\n",
        "# Now we can use the optimized parameters to create the final QAOA circuit\n",
        "qc_final = qaoa_ansatz.assign_parameters(result.x)\n",
        "\n",
        " #Simulate the final circuit\n",
        "statevector = Statevector.from_instruction(qc_final)\n",
        "\n",
        "print(\"\\nFinal Statevector:\")\n",
        "print(statevector)\n",
        "\n",
        "#Calculate and print the probabilities of the final state\n",
        "probabilities = [abs(amplitude)**2 for amplitude in statevector]\n",
        "print(\"\\nProbabilities of the final state:\")\n",
        "print(probabilities)"
      ],
      "metadata": {
        "colab": {
          "base_uri": "https://localhost:8080/"
        },
        "id": "uX4PMxCfJrzB",
        "outputId": "98a62dd3-655d-49f8-e543-1210c1d440fa"
      },
      "execution_count": 114,
      "outputs": [
        {
          "output_type": "stream",
          "name": "stdout",
          "text": [
            "SparsePauliOp(['ZIII', 'IZII', 'IIZI', 'IIIZ', 'ZZII', 'ZIZI', 'ZIIZ', 'IZZI', 'IZIZ'],\n",
            "              coeffs=[ 1.5+0.j,  1.5+0.j, -3. +0.j, -3. +0.j,  2. +0.j, -1. +0.j, -1. +0.j,\n",
            " -1. +0.j, -1. +0.j])\n",
            "SparsePauliOp(['XIII', 'IXII', 'IIXI', 'IIIX'],\n",
            "              coeffs=[1.+0.j, 1.+0.j, 1.+0.j, 1.+0.j])\n",
            "\n",
            "Optimized Parameters:\n",
            "[1.03873876 1.02618875 0.0234426  0.41010707 1.35371059 0.44737833\n",
            " 0.6950217  0.74758654 0.67728776 0.91950348 0.93786207 1.90360774\n",
            " 0.19976487 0.06094653 0.03608292 0.77126356 1.17722613 0.00716074\n",
            " 0.81326866 0.82211405]\n",
            "\n",
            "Final Statevector:\n",
            "Statevector([-0.00526021+0.17700241j, -0.05298056-0.08830914j,\n",
            "             -0.05298056-0.08830914j,  0.09952088-0.03694077j,\n",
            "              0.03353136-0.64340737j, -0.05601373+0.04143488j,\n",
            "             -0.05601373+0.04143488j,  0.0780706 +0.06154985j,\n",
            "              0.03353136-0.64340737j, -0.05601373+0.04143488j,\n",
            "             -0.05601373+0.04143488j,  0.0780706 +0.06154985j,\n",
            "              0.02925861+0.07954125j,  0.10298748-0.00228878j,\n",
            "              0.10298748-0.00228878j, -0.17300383-0.09190703j],\n",
            "            dims=(2, 2, 2, 2))\n",
            "\n",
            "Probabilities of the final state:\n",
            "[0.03135752240382838, 0.010605443879560273, 0.010605443879560281, 0.011269024890829036, 0.4150973960746434, 0.0048543862684173045, 0.004854386268417268, 0.009883402199283204, 0.4150973960746434, 0.004854386268417276, 0.004854386268417273, 0.009883402199283195, 0.007182876654281282, 0.010611659538106406, 0.010611659538106393, 0.038377227594205636]\n"
          ]
        }
      ]
    },
    {
      "cell_type": "code",
      "source": [
        "#HISTOGRAM DESIGN\n",
        "\n",
        "import matplotlib.pyplot as plt\n",
        "import numpy as np\n",
        "\n",
        "def plot_histogram(probabilities):\n",
        "    \"\"\"\n",
        "    Plots a histogram of quantum state probabilities.\n",
        "\n",
        "    Parameters:\n",
        "        probabilities (list): A list of probabilities for each quantum state.\n",
        "    \"\"\"\n",
        "    # Number of qubits (calculated from the length of the probabilities vector: 2^n_qubits)\n",
        "    n_qubits = int(np.log2(len(probabilities)))\n",
        "\n",
        "    # Generate the corresponding quantum states\n",
        "    states = [bin(i)[2:].zfill(n_qubits) for i in range(2**n_qubits)]\n",
        "\n",
        "    # Create the histogram\n",
        "    plt.figure(figsize=(12, 6))\n",
        "    plt.bar(states, probabilities, color='skyblue')\n",
        "\n",
        "    # Labeling the plot\n",
        "    plt.xlabel('Quantum States', fontsize=12)\n",
        "    plt.ylabel('Probability', fontsize=12)\n",
        "    plt.title('Histogram of Quantum State Probabilities', fontsize=14)\n",
        "    plt.xticks(rotation=90, fontsize=10)\n",
        "    plt.grid(axis='y', linestyle='--', alpha=0.7)\n",
        "\n",
        "    # Show the plot\n",
        "    plt.tight_layout()\n",
        "    plt.show()\n",
        "\n",
        "\n",
        "plot_histogram(probabilities)"
      ],
      "metadata": {
        "colab": {
          "base_uri": "https://localhost:8080/",
          "height": 594
        },
        "id": "kBw32hxZWVdg",
        "outputId": "5b26ff74-5f83-4a08-eda3-f022676c541b"
      },
      "execution_count": 115,
      "outputs": [
        {
          "output_type": "display_data",
          "data": {
            "text/plain": [
              "<Figure size 1200x600 with 1 Axes>"
            ],
            "image/png": "[encoded data removed]"
          },
          "metadata": {}
        }
      ]
    }
  ]
}