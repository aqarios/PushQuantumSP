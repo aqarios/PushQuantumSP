{
 "cells": [
  {
   "cell_type": "code",
   "execution_count": 1,
   "metadata": {},
   "outputs": [
    {
     "data": {
      "image/png": "[encoded data removed]",
      "text/plain": [
       "<Figure size 640x480 with 1 Axes>"
      ]
     },
     "metadata": {},
     "output_type": "display_data"
    },
    {
     "name": "stdout",
     "output_type": "stream",
     "text": [
      "(13, 13)\n",
      "[[-3.  4.  0.  0.  2. -2. -2. -4.  0.  0.  0.  0.  0.]\n",
      " [ 4. -5.  2.  0.  4. -2. -2. -4. -2. -4.  0.  0.  0.]\n",
      " [ 0.  2. -5.  4.  4.  0.  0.  0. -2. -4. -2. -4. -2.]\n",
      " [ 0.  0.  4. -3.  2.  0.  0.  0.  0.  0. -2. -4. -2.]\n",
      " [ 2.  4.  4.  2. -5.  0. -2. -4. -2. -4. -2. -4.  0.]\n",
      " [-2. -2.  0.  0.  0.  6.  0.  0.  0.  0.  0.  0.  0.]\n",
      " [-2. -2.  0.  0. -2.  0.  6.  4.  0.  0.  0.  0.  0.]\n",
      " [-4. -4.  0.  0. -4.  0.  4. 16.  0.  0.  0.  0.  0.]\n",
      " [ 0. -2. -2.  0. -2.  0.  0.  0.  6.  4.  0.  0.  0.]\n",
      " [ 0. -4. -4.  0. -4.  0.  0.  0.  4. 16.  0.  0.  0.]\n",
      " [ 0.  0. -2. -2. -2.  0.  0.  0.  0.  0.  6.  4.  0.]\n",
      " [ 0.  0. -4. -4. -4.  0.  0.  0.  0.  0.  4. 16.  0.]\n",
      " [ 0.  0. -2. -2.  0.  0.  0.  0.  0.  0.  0.  0.  6.]]\n"
     ]
    }
   ],
   "source": [
    "# create qmat\n",
    "import neal\n",
    "\n",
    "from data.sp_data import SPData\n",
    "from models import SPQuboBinary\n",
    "from evaluation.evaluation import SPEvaluation\n",
    "from plotting.sp_plot import SPPlot\n",
    "\n",
    "\n",
    "params = {\"version\": 1, \"num_cols\": 5, \"rad_max\": 2.4}\n",
    "data = SPData().gen_problem(**params) \n",
    "plt = SPPlot(data).plot_problem()\n",
    "plt.show()\n",
    "\n",
    "config = {\"num_reads\":1000,\"num_sweeps\":1000}\n",
    "solve_func = neal.SimulatedAnnealingSampler().sample_qubo\n",
    "qubo_model_bin = SPQuboBinary(data)\n",
    "qmat = qubo_model_bin.model\n",
    "print(qmat.shape)\n",
    "print(qmat)"
   ]
  },
  {
   "cell_type": "code",
   "execution_count": null,
   "metadata": {},
   "outputs": [
    {
     "ename": "ModuleNotFoundError",
     "evalue": "No module named 'qiskit.opflow'",
     "output_type": "error",
     "traceback": [
      "\u001b[0;31m---------------------------------------------------------------------------\u001b[0m",
      "\u001b[0;31mModuleNotFoundError\u001b[0m                       Traceback (most recent call last)",
      "Cell \u001b[0;32mIn[11], line 3\u001b[0m\n\u001b[1;32m      1\u001b[0m \u001b[38;5;28;01mfrom\u001b[39;00m \u001b[38;5;21;01mqiskit\u001b[39;00m\u001b[38;5;21;01m.\u001b[39;00m\u001b[38;5;21;01mquantum_info\u001b[39;00m \u001b[38;5;28;01mimport\u001b[39;00m SparsePauliOp\n\u001b[1;32m      2\u001b[0m \u001b[38;5;28;01mfrom\u001b[39;00m \u001b[38;5;21;01mqiskit\u001b[39;00m\u001b[38;5;21;01m.\u001b[39;00m\u001b[38;5;21;01mcircuit\u001b[39;00m\u001b[38;5;21;01m.\u001b[39;00m\u001b[38;5;21;01mlibrary\u001b[39;00m \u001b[38;5;28;01mimport\u001b[39;00m qaoa_ansatz\n\u001b[0;32m----> 3\u001b[0m \u001b[38;5;28;01mfrom\u001b[39;00m \u001b[38;5;21;01mqiskit\u001b[39;00m\u001b[38;5;21;01m.\u001b[39;00m\u001b[38;5;21;01mopflow\u001b[39;00m \u001b[38;5;28;01mimport\u001b[39;00m PauliSumOp\n\u001b[1;32m      4\u001b[0m \u001b[38;5;28;01mimport\u001b[39;00m \u001b[38;5;21;01mnumpy\u001b[39;00m \u001b[38;5;28;01mas\u001b[39;00m \u001b[38;5;21;01mnp\u001b[39;00m\n\u001b[1;32m      6\u001b[0m \u001b[38;5;28;01mfrom\u001b[39;00m \u001b[38;5;21;01mqiskit\u001b[39;00m\u001b[38;5;21;01m.\u001b[39;00m\u001b[38;5;21;01mquantum_info\u001b[39;00m \u001b[38;5;28;01mimport\u001b[39;00m Operator\n",
      "\u001b[0;31mModuleNotFoundError\u001b[0m: No module named 'qiskit.opflow'"
     ]
    }
   ],
   "source": [
    "from qiskit.quantum_info import SparsePauliOp\n",
    "from qiskit.circuit.library import qaoa_ansatz\n",
    "from qiskit.opflow import PauliSumOp\n",
    "import numpy as np\n",
    "\n",
    "from qiskit.quantum_info import Operator\n",
    "\n",
    "from qiskit.circuit.library import QAOAAnsatz\n",
    "\n",
    "# 1. Define the Cost and Mixer Hamiltonians\n",
    "\n",
    "\n",
    "# Cost Hamiltonian (Example: H_c = Z0 * Z1 + Z1 * Z2)\n",
    "cost_hamiltonian = Operator(qmat) # SparsePauliOp([\"ZZII\", \"IIZZ\", \"ZIIZ\"])\n",
    "print(qmat.shape)\n",
    "print(cost_hamiltonian.num_qubits)\n",
    "alpha=1\n",
    "N=5\n",
    "\n",
    "mix_hamiltonian = SparsePauliOp([\"X\"+\"I\"*(qmat.shape[0]-1), \"I\"+\"I\"*(qmat.shape[0]-1), \"Z\"+\"I\"*(qmat.shape[0]-1)],  # Pauli strings: Z and X on the first qubit\n",
    "    coeffs=np.array([1.0,alpha*N/2,-alpha*N/2]))\n",
    "# 2. Initialize the QAOAAnsatz\n",
    "p = 10  # Number of layers\n",
    "qaoa_ansatz = QAOAAnsatz(\n",
    "    cost_operator=cost_hamiltonian,\n",
    "    reps=p,\n",
    "    mixer_operator=mix_hamiltonian\n",
    ")\n",
    "\n",
    "# Get the parameters (gammas and betas)\n",
    "#parameters = qaoa_ansatz.parameters\n",
    "\n",
    "# Print the circuit\n",
    "print(\"QAOA Ansatz Circuit:\")\n",
    "print(qaoa_ansatz.decompose().draw())\n",
    "\n",
    "\n",
    "from qiskit import QuantumCircuit\n",
    "from qiskit.quantum_info import Statevector\n",
    "from scipy.optimize import minimize\n",
    "# 3. Define the objective function for optimization\n",
    "\n",
    "\n",
    "\n",
    "def objective_function(params):\n",
    "    # Bind the parameters (gammas and betas) to the QAOA ansatz\n",
    "    qc_bound = qaoa_ansatz.assign_parameters(params)\n",
    "    \n",
    "    # Simulate the circuit using Statevector\n",
    "    statevector = Statevector.from_instruction(qc_bound)\n",
    "    \n",
    "    # Calculate the expectation value of the cost Hamiltonian\n",
    "    expectation_value = statevector.expectation_value(cost_hamiltonian)\n",
    "    \n",
    "    return expectation_value.real  # We only care about the real part\n",
    "\n",
    "# 4. Initialize random values for gamma and beta\n",
    "initial_parameters = np.random.rand(len(qaoa_ansatz.parameters))  # Random initial parameters for gamma and beta\n",
    "\n",
    "# 5. Use COBYLA from scipy to minimize the objective function\n",
    "result = minimize(objective_function, initial_parameters, method='COBYLA', options={'maxiter': 100})\n",
    "\n",
    "# Print the optimized parameters\n",
    "print(\"\\nOptimized Parameters:\")\n",
    "print(result.x)\n",
    "\n",
    "# Now we can use the optimized parameters to create the final QAOA circuit\n",
    "qc_final = qaoa_ansatz.assign_parameters(result.x)\n",
    "\n",
    " #Simulate the final circuit\n",
    "statevector = Statevector.from_instruction(qc_final)\n",
    "\n",
    "print(\"\\nFinal Statevector:\")\n",
    "print(statevector)\n",
    "\n",
    "#Calculate and print the probabilities of the final state\n",
    "probabilities = [abs(amplitude)**2 for amplitude in statevector]\n",
    "print(\"\\nProbabilities of the final state:\")\n",
    "print(probabilities)"
   ]
  },
  {
   "cell_type": "code",
   "execution_count": 2,
   "metadata": {},
   "outputs": [
    {
     "ename": "NameError",
     "evalue": "name 'probabilities' is not defined",
     "output_type": "error",
     "traceback": [
      "\u001b[0;31m---------------------------------------------------------------------------\u001b[0m",
      "\u001b[0;31mNameError\u001b[0m                                 Traceback (most recent call last)",
      "Cell \u001b[0;32mIn[2], line 35\u001b[0m\n\u001b[1;32m     31\u001b[0m     plt\u001b[38;5;241m.\u001b[39mtight_layout()\n\u001b[1;32m     32\u001b[0m     plt\u001b[38;5;241m.\u001b[39mshow()\n\u001b[0;32m---> 35\u001b[0m plot_histogram(\u001b[43mprobabilities\u001b[49m)\n",
      "\u001b[0;31mNameError\u001b[0m: name 'probabilities' is not defined"
     ]
    }
   ],
   "source": [
    "#HISTOGRAM DESIGN\n",
    "\n",
    "import matplotlib.pyplot as plt\n",
    "import numpy as np\n",
    "\n",
    "def plot_histogram(probabilities):\n",
    "    \"\"\"\n",
    "    Plots a histogram of quantum state probabilities.\n",
    "\n",
    "    Parameters:\n",
    "        probabilities (list): A list of probabilities for each quantum state.\n",
    "    \"\"\"\n",
    "    # Number of qubits (calculated from the length of the probabilities vector: 2^n_qubits)\n",
    "    n_qubits = int(np.log2(len(probabilities)))\n",
    "\n",
    "    # Generate the corresponding quantum states\n",
    "    states = [bin(i)[2:].zfill(n_qubits) for i in range(2**n_qubits)]\n",
    "\n",
    "    # Create the histogram\n",
    "    plt.figure(figsize=(12, 6))\n",
    "    plt.bar(states, probabilities, color='skyblue')\n",
    "\n",
    "    # Labeling the plot\n",
    "    plt.xlabel('Quantum States', fontsize=12)\n",
    "    plt.ylabel('Probability', fontsize=12)\n",
    "    plt.title('Histogram of Quantum State Probabilities', fontsize=14)\n",
    "    plt.xticks(rotation=90, fontsize=10)\n",
    "    plt.grid(axis='y', linestyle='--', alpha=0.7)\n",
    "\n",
    "    # Show the plot\n",
    "    plt.tight_layout()\n",
    "    plt.show()\n",
    "\n",
    "\n",
    "plot_histogram(probabilities)"
   ]
  },
  {
   "cell_type": "code",
   "execution_count": null,
   "metadata": {},
   "outputs": [],
   "source": []
  }
 ],
 "metadata": {
  "kernelspec": {
   "display_name": ".venv",
   "language": "python",
   "name": "python3"
  },
  "language_info": {
   "codemirror_mode": {
    "name": "ipython",
    "version": 3
   },
   "file_extension": ".py",
   "mimetype": "text/x-python",
   "name": "python",
   "nbconvert_exporter": "python",
   "pygments_lexer": "ipython3",
   "version": "3.11.10"
  }
 },
 "nbformat": 4,
 "nbformat_minor": 2
}
