{
 "cells": [
  {
   "cell_type": "code",
   "execution_count": 1,
   "metadata": {},
   "outputs": [],
   "source": [
    "import time\n",
    "import numpy as np\n",
    "from data.sp_data import SPData\n",
    "from models import SPQuboBinary, SPCplex\n",
    "from evaluation.evaluation import SPEvaluation\n",
    "from plotting.sp_plot import SPPlot\n",
    "from tqdm import tqdm\n",
    "import pickle\n",
    "\n",
    "import os\n",
    "import matplotlib.pyplot as plt\n",
    "#from dotenv import load_dotenv\n",
    "\n",
    "import luna_sdk\n",
    "from luna_sdk import LunaSolve\n",
    "from luna_sdk.schemas.qpu_token import QpuToken, TokenProvider"
   ]
  },
  {
   "cell_type": "code",
   "execution_count": 2,
   "metadata": {},
   "outputs": [],
   "source": [
    "os.environ[\"LUNA_ENCRYPTION_KEY\"] = \"2z+TiZGBeyjZKuctYvMQQLkYbKZgUuXPgd2tpTyxIUE=\"\n",
    "os.environ[\"LUNA_DWAVE_TOKEN\"] = \"newtoken\""
   ]
  },
  {
   "cell_type": "code",
   "execution_count": 3,
   "metadata": {},
   "outputs": [],
   "source": [
    "complexity_arr = [1, 5, 10, 50, 100, 300]\n",
    "\n",
    "version_1_samples = [SPData().gen_problem(version=1, num_cols=i, rad_max=2.4) for i in complexity_arr]\n",
    "version_2_samples = [SPData().gen_problem(version=2, num_cols=i, rad_max=2.4) for i in complexity_arr]\n",
    "version_3_samples = [SPData().gen_problem(version=3, num_cols=i, rad_max=2.4) for i in complexity_arr]\n",
    "\n",
    "version_samples = (version_1_samples, version_2_samples, version_3_samples)"
   ]
  },
  {
   "cell_type": "code",
   "execution_count": 4,
   "metadata": {},
   "outputs": [],
   "source": [
    "version_1_qubo_binary_matrix = [SPQuboBinary(data, P1=1, P2=1, P3=1).model for data in version_1_samples]\n",
    "version_2_qubo_binary_matrix = [SPQuboBinary(data, P1=1, P2=1, P3=1).model for data in version_2_samples]\n",
    "version_3_qubo_binary_matrix = [SPQuboBinary(data, P1=1, P2=1, P3=1).model for data in version_3_samples]\n",
    "version_matrix = (version_1_qubo_binary_matrix, version_2_qubo_binary_matrix, version_3_qubo_binary_matrix)"
   ]
  },
  {
   "cell_type": "code",
   "execution_count": 5,
   "metadata": {},
   "outputs": [],
   "source": [
    "classic_alg_energy = ([], [], [])\n",
    "for version in range(3):\n",
    "    for data in version_samples[version]:\n",
    "        cplex_model = SPCplex(data)\n",
    "        answer = cplex_model.solve()\n",
    "        x = list(answer['solution'].values())\n",
    "        classic_alg_energy[version].append(sum(x))"
   ]
  },
  {
   "cell_type": "markdown",
   "metadata": {},
   "source": [
    "# Luna Simulations"
   ]
  },
  {
   "cell_type": "code",
   "execution_count": 6,
   "metadata": {},
   "outputs": [],
   "source": [
    "# set up luna solve\n",
    "ls = LunaSolve(api_key=\"53741991842f4da8b7962859296e2643\")"
   ]
  },
  {
   "cell_type": "markdown",
   "metadata": {},
   "source": [
    "## Algorithm benchmarking"
   ]
  },
  {
   "cell_type": "code",
   "execution_count": 7,
   "metadata": {},
   "outputs": [],
   "source": [
    "q_anneal_test_list = [('QA', 'dwave', TokenProvider(dwave=QpuToken(source=\"inline\",token=\"dwave-token\"))),\n",
    "                    ('RRQA', 'dwave', TokenProvider(dwave=QpuToken(source=\"inline\",token=\"dwave-token\"))),\n",
    "                    ('PAQ', 'dwave', TokenProvider(dwave=QpuToken(source=\"inline\",token=\"dwave-token\"))),\n",
    "                    ('PTQ', 'dwave', TokenProvider(dwave=QpuToken(source=\"inline\",token=\"dwave-token\"))),\n",
    "                    ('QLQ', 'dwave', TokenProvider(dwave=QpuToken(source=\"inline\",token=\"dwave-token\"))),\n",
    "                    ('K', 'dwave', TokenProvider(dwave=QpuToken(source=\"inline\",token=\"dwave-token\")))]\n",
    "                    #('LBQM', 'dwave', TokenProvider(dwave=QpuToken(source=\"inline\",token=\"dwave-token\"))),\n",
    "                    #('LCQM', 'dwave', TokenProvider(dwave=QpuToken(source=\"inline\",token=\"dwave-token\")))]\n",
    "\n",
    "\n",
    "sim_anneal_test_list = [('SA', 'dwave', None), \n",
    "                        ('PA', 'dwave', None),\n",
    "                        ('PT', 'dwave', None),\n",
    "                        ('RRSA', 'dwave', None),\n",
    "                        ('QLSA', 'dwave', None)]\n",
    "\n",
    "\n",
    "\n",
    "gen_alg_test_list = [('QAGA+', 'dwave', TokenProvider(dwave=QpuToken(source=\"inline\",token=\"dwave-token\"))),\n",
    "                    ('QAGA_PL', 'dwave', TokenProvider(dwave=QpuToken(source=\"inline\",token=\"dwave-token\"))),\n",
    "                    ('QAGA_PW', 'dwave', TokenProvider(dwave=QpuToken(source=\"inline\",token=\"dwave-token\"))),\n",
    "                    ('SAGA+', 'dwave', None),\n",
    "                    ('SAGA_PL', 'dwave', None),\n",
    "                    ('SAGA_PW', 'dwave', None)]"
   ]
  },
  {
   "cell_type": "code",
   "execution_count": 8,
   "metadata": {},
   "outputs": [],
   "source": [
    "def simulate_luna(tuple, Q):\n",
    "\n",
    "    optimization = ls.optimization.create_from_qubo(name=\"qubo_test\", matrix=Q)\n",
    "\n",
    "    job = ls.solution.create(\n",
    "            optimization_id=optimization.id,\n",
    "            solver_name=tuple[0],\n",
    "            provider=tuple[1],\n",
    "            qpu_tokens=tuple[2],\n",
    "        )\n",
    "    \n",
    "    solution = ls.solution.get(job.id)\n",
    "    \n",
    "    xi_list = []\n",
    "    \n",
    "    while not solution.results:\n",
    "        time.sleep(5)\n",
    "        solution = ls.solution.get(job.id)\n",
    "\n",
    "    \n",
    "\n",
    "    xi_list = [ np.array(list(solution.results[i].sample.values())) for i  in range(len(solution.results)) ]\n",
    "\n",
    "    energy_list = [x.T @ Q @ x for x in xi_list]\n",
    "    \n",
    "    # quantum/classical runtime\n",
    "    total_time = solution.runtime.total\n",
    "    qpu_time = solution.runtime.qpu\n",
    "\n",
    "    return xi_list, energy_list, total_time, qpu_time"
   ]
  },
  {
   "cell_type": "markdown",
   "metadata": {},
   "source": [
    "### Genetic Algorithms"
   ]
  },
  {
   "cell_type": "code",
   "execution_count": 57,
   "metadata": {},
   "outputs": [
    {
     "data": {
      "text/plain": [
       "\"\\ngen_alg_res_list = []\\n\\nfor alg in tqdm([gen_alg_test_list[3]]):\\n    \\n    gen_alg_res_list.append(simulate_luna(alg, optimization, Q_test))\\n\\nwith open('gen_alg_res_list.pkl', 'wb') as f:\\n    pickle.dump(gen_alg_res_list, f)\\n\""
      ]
     },
     "execution_count": 57,
     "metadata": {},
     "output_type": "execute_result"
    }
   ],
   "source": [
    "\"\"\"\n",
    "gen_alg_res_list = []\n",
    "\n",
    "for alg in tqdm([gen_alg_test_list[3]]):\n",
    "    \n",
    "    gen_alg_res_list.append(simulate_luna(alg, optimization, Q_test))\n",
    "\n",
    "with open('gen_alg_res_list.pkl', 'wb') as f:\n",
    "    pickle.dump(gen_alg_res_list, f)\n",
    "\"\"\""
   ]
  },
  {
   "cell_type": "code",
   "execution_count": 16,
   "metadata": {},
   "outputs": [],
   "source": [
    "# we simulate all algorithms for this Q matrix (10 Lidar's)\n",
    "Q_test = version_3_qubo_binary_matrix[-1]\n",
    "energy_reference = classic_alg_energy[2][-1]"
   ]
  },
  {
   "cell_type": "markdown",
   "metadata": {},
   "source": [
    "### Simulated Annealing"
   ]
  },
  {
   "cell_type": "code",
   "execution_count": 59,
   "metadata": {},
   "outputs": [
    {
     "name": "stderr",
     "output_type": "stream",
     "text": [
      "100%|██████████| 5/5 [02:46<00:00, 33.40s/it]\n"
     ]
    }
   ],
   "source": [
    "sim_anneal_res_list = []\n",
    "\n",
    "for alg in tqdm(sim_anneal_test_list):\n",
    "    \n",
    "    sim_anneal_res_list.append(simulate_luna(alg, Q_test))\n",
    "\n",
    "\n",
    "with open('sim_anneal_res_list.pkl', 'wb') as f:\n",
    "    pickle.dump(sim_anneal_res_list, f)"
   ]
  },
  {
   "cell_type": "markdown",
   "metadata": {},
   "source": [
    "### Quantum Annealing"
   ]
  },
  {
   "cell_type": "code",
   "execution_count": 61,
   "metadata": {},
   "outputs": [
    {
     "data": {
      "text/plain": [
       "\"\\nq_anneal_res_list = []\\n\\nfor alg in tqdm(q_anneal_test_list):\\n    \\n    q_anneal_res_list.append(simulate_luna(alg, optimization, Q_test))\\n\\n\\nwith open('q_anneal_res_list.pkl', 'wb') as f:\\n    pickle.dump(q_anneal_res_list, f)\\n\""
      ]
     },
     "execution_count": 61,
     "metadata": {},
     "output_type": "execute_result"
    }
   ],
   "source": [
    "\"\"\"\n",
    "q_anneal_res_list = []\n",
    "\n",
    "for alg in tqdm(q_anneal_test_list):\n",
    "    \n",
    "    q_anneal_res_list.append(simulate_luna(alg, optimization, Q_test))\n",
    "\n",
    "\n",
    "with open('q_anneal_res_list.pkl', 'wb') as f:\n",
    "    pickle.dump(q_anneal_res_list, f)\n",
    "\"\"\""
   ]
  },
  {
   "cell_type": "markdown",
   "metadata": {},
   "source": [
    "## Sort results"
   ]
  },
  {
   "cell_type": "code",
   "execution_count": 9,
   "metadata": {},
   "outputs": [],
   "source": [
    "#with open('gen_alg_res_list.pkl', 'rb') as f:\n",
    "#    gen_alg_res_list = pickle.load(f)\n",
    "\n",
    "with open('sim_anneal_res_list.pkl', 'rb') as f:\n",
    "    sim_anneal_res_list = pickle.load(f)\n",
    "\n",
    "#with open('q_anneal_res_list.pkl', 'rb') as f:\n",
    "#    q_anneal_res_list = pickle.load(f)"
   ]
  },
  {
   "cell_type": "code",
   "execution_count": 10,
   "metadata": {},
   "outputs": [],
   "source": [
    "results = sim_anneal_res_list\n",
    "\n",
    "alg_names = [ alg[0] for alg in sim_anneal_test_list ]\n",
    "min_energies = []\n",
    "runtimes = []\n",
    "lidar_counts = []\n",
    "\n",
    "for result in results:\n",
    "    min_energies.append(min(result[1]))\n",
    "    runtimes.append(result[2])\n",
    "    min_idx = np.argmin(result[1])\n",
    "    lidar_counts.append(sum(result[0][min_idx][:complexity_arr[-1]]))"
   ]
  },
  {
   "cell_type": "code",
   "execution_count": 11,
   "metadata": {},
   "outputs": [],
   "source": [
    "sorted_indices = np.argsort(np.array(min_energies)), \n",
    "\n",
    "min_energy = np.array(min_energies)[sorted_indices]\n",
    "runtime = np.array(runtimes)[sorted_indices]\n",
    "lidar_count = np.array(lidar_counts)[sorted_indices]\n",
    "alg_names = np.array(np.array(alg_names)[sorted_indices], dtype=object)"
   ]
  },
  {
   "cell_type": "markdown",
   "metadata": {},
   "source": [
    "# Plots"
   ]
  },
  {
   "cell_type": "code",
   "execution_count": 17,
   "metadata": {},
   "outputs": [],
   "source": [
    "# colors\n",
    "color_red = \"#e64b35\"\n",
    "color_light_red = \"#f39b7f\"\n",
    "color_green = \"#00a087\"\n",
    "color_lightblue = \"#4dbbd5\"\n",
    "color_blue = \"#3c5488\"\n",
    "colors = [color_blue, color_lightblue, color_green, color_light_red, color_red]"
   ]
  },
  {
   "cell_type": "code",
   "execution_count": 18,
   "metadata": {},
   "outputs": [
    {
     "ename": "NameError",
     "evalue": "name 'alg_names' is not defined",
     "output_type": "error",
     "traceback": [
      "\u001b[0;31m---------------------------------------------------------------------------\u001b[0m",
      "\u001b[0;31mNameError\u001b[0m                                 Traceback (most recent call last)",
      "Cell \u001b[0;32mIn[18], line 1\u001b[0m\n\u001b[0;32m----> 1\u001b[0m [\u001b[38;5;124m\"\u001b[39m\u001b[38;5;124mcplex\u001b[39m\u001b[38;5;124m\"\u001b[39m] \u001b[38;5;241m+\u001b[39m \u001b[43malg_names\u001b[49m\n",
      "\u001b[0;31mNameError\u001b[0m: name 'alg_names' is not defined"
     ]
    }
   ],
   "source": [
    "[\"cplex\"] + alg_names"
   ]
  },
  {
   "cell_type": "code",
   "execution_count": 14,
   "metadata": {},
   "outputs": [
    {
     "data": {
      "text/plain": [
       "array(['cplex', 'PT', 'QLSA', 'RRSA', 'SA', 'PA'], dtype=object)"
      ]
     },
     "execution_count": 14,
     "metadata": {},
     "output_type": "execute_result"
    }
   ],
   "source": [
    "np.insert(alg_names, 0,np.array(['cplex']))"
   ]
  },
  {
   "cell_type": "code",
   "execution_count": 17,
   "metadata": {},
   "outputs": [
    {
     "data": {
      "image/png": "[encoded data removed]",
      "text/plain": [
       "<Figure size 640x480 with 2 Axes>"
      ]
     },
     "metadata": {},
     "output_type": "display_data"
    }
   ],
   "source": [
    "import matplotlib.pyplot as plt\n",
    "import numpy as np\n",
    "\n",
    "# Sample data\n",
    "categories = np.insert(alg_names, 0,[\"CPLEX\"])\n",
    "values1 = np.insert(min_energy, 0 ,energy_reference)  # Data for the first bar plot\n",
    "values2 = np.insert(lidar_count, 0 ,lidar_count[0])   # Data for the second bar plot\n",
    "\n",
    "# Bar width\n",
    "bar_width = 0.3\n",
    "\n",
    "# X positions\n",
    "x = np.arange(len(categories))\n",
    "\n",
    "# Create the figure and the first axis\n",
    "fig, ax1 = plt.subplots()\n",
    "\n",
    "# Plot the first set of bars\n",
    "bars1 = ax1.bar(x - bar_width/2, values1, bar_width, alpha=0.7, color=colors[4])\n",
    "ax1.set_ylabel('Energy', color=colors[4])\n",
    "ax1.tick_params(axis='y', labelcolor=colors[4])\n",
    "\n",
    "# Create a second y-axis\n",
    "ax2 = ax1.twinx()\n",
    "\n",
    "# Plot the second set of bars\n",
    "bars2 = ax2.bar(x + bar_width/2, values2, bar_width, alpha=0.7, color=colors[0])\n",
    "ax2.set_ylabel('Lidar Count', color=colors[0])\n",
    "ax2.tick_params(axis='y', labelcolor=colors[0])\n",
    "\n",
    "# Add labels and title\n",
    "ax1.set_xticks(x)\n",
    "ax1.set_xticklabels(categories)\n",
    "\n",
    "ax1.axhline(y=energy_reference, color=colors[4], linestyle='--')\n",
    "\n",
    "ax2.axhline(y=lidar_count[0], color=colors[0], linestyle='--')\n",
    "\n",
    "ax1.set_title('Luna Simulated Annealing Benchmarking for N = 300')\n",
    "fig.savefig('benchmark1.pdf')\n",
    "# Display the plot\n",
    "plt.show()\n"
   ]
  },
  {
   "cell_type": "markdown",
   "metadata": {},
   "source": [
    "# Benchmark PT over N and compare with QPT"
   ]
  },
  {
   "cell_type": "code",
   "execution_count": 39,
   "metadata": {},
   "outputs": [],
   "source": [
    "complexities = [1, 10, 20, 30, 40, 50, 60, 70, 80, 90, 100]\n",
    "\n",
    "var_3_samples = [SPData().gen_problem(version=3, num_cols=i, rad_max=2.4) for i in complexities]\n",
    "var_3_qubo_binary_matrix = [SPQuboBinary(data, P1=1, P2=1, P3=1).model for data in var_3_samples]"
   ]
  },
  {
   "cell_type": "code",
   "execution_count": 40,
   "metadata": {},
   "outputs": [
    {
     "name": "stderr",
     "output_type": "stream",
     "text": [
      "100%|██████████| 11/11 [01:25<00:00,  7.78s/it]\n"
     ]
    }
   ],
   "source": [
    "benchmark_PT_list = []\n",
    "\n",
    "for i,comp in tqdm(enumerate(complexities), total=len(complexities)):\n",
    "    benchmark_PT_list.append(simulate_luna(('PT', 'dwave', None), var_3_qubo_binary_matrix[i]))\n",
    "\n",
    "\n",
    "with open('benchmark_PT_list.pkl', 'wb') as f:\n",
    "    pickle.dump(benchmark_PT_list, f)"
   ]
  },
  {
   "cell_type": "code",
   "execution_count": 41,
   "metadata": {},
   "outputs": [
    {
     "name": "stderr",
     "output_type": "stream",
     "text": [
      "100%|██████████| 11/11 [02:25<00:00, 13.19s/it]\n"
     ]
    }
   ],
   "source": [
    "benchmark_PTQ_list = []\n",
    "\n",
    "\n",
    "for i,comp in tqdm(enumerate(complexities), total=len(complexities)):\n",
    "    benchmark_PTQ_list.append(simulate_luna(('PTQ', 'dwave', TokenProvider(dwave=QpuToken(source=\"inline\",token=\"DEV-b9e91fad6a014c54d02857bb83e4b1003f28e02a\"))), var_3_qubo_binary_matrix[i]))\n",
    "\n",
    "with open('benchmark_PTQ_list.pkl', 'wb') as f:\n",
    "    pickle.dump(benchmark_PTQ_list, f)"
   ]
  },
  {
   "cell_type": "code",
   "execution_count": 42,
   "metadata": {},
   "outputs": [],
   "source": [
    "with open('benchmark_PT_list.pkl', 'rb') as f:\n",
    "    benchmark_PT_list = pickle.load(f)\n",
    "\n",
    "with open('benchmark_PTQ_list.pkl', 'rb') as f:\n",
    "    benchmark_PTQ_list = pickle.load(f)"
   ]
  },
  {
   "cell_type": "markdown",
   "metadata": {},
   "source": [
    "### CPLEX"
   ]
  },
  {
   "cell_type": "code",
   "execution_count": 43,
   "metadata": {},
   "outputs": [],
   "source": [
    "cplex_solve_times = []\n",
    "cplex_sol = []\n",
    "\n",
    "for data in var_3_samples:\n",
    "    # Start the timer\n",
    "    start_time = time.time()\n",
    "    \n",
    "    # Create and solve the CPLEX model\n",
    "    cplex_model = SPCplex(data)\n",
    "    answer = cplex_model.solve()\n",
    "    \n",
    "    # Stop the timer\n",
    "    elapsed_time = time.time() - start_time\n",
    "    cplex_solve_times.append(elapsed_time)\n",
    "    \n",
    "    # Retrieve the solution and calculate its sum\n",
    "    x = list(answer['solution'].values())\n",
    "    cplex_sol.append(sum(x))"
   ]
  },
  {
   "cell_type": "markdown",
   "metadata": {},
   "source": [
    "# Plot results"
   ]
  },
  {
   "cell_type": "code",
   "execution_count": 44,
   "metadata": {},
   "outputs": [],
   "source": [
    "min_energiesC = []\n",
    "runtimesC = []\n",
    "lidar_countsC = []\n",
    "\n",
    "\n",
    "for i in range(len(benchmark_PT_list)):\n",
    "    result = benchmark_PT_list[i]\n",
    "    min_energiesC.append(min(result[1]))\n",
    "    runtimesC.append(result[2])\n",
    "    min_idx = np.argmin(result[1])\n",
    "    lidar_countsC.append(sum(result[0][min_idx][:complexities[i]]))"
   ]
  },
  {
   "cell_type": "code",
   "execution_count": 45,
   "metadata": {},
   "outputs": [],
   "source": [
    "min_energiesQ = []\n",
    "runtimesQ = []\n",
    "lidar_countsQ = []\n",
    "\n",
    "for i in range(len(benchmark_PTQ_list)):\n",
    "    result = benchmark_PTQ_list[i]\n",
    "\n",
    "    min_energiesQ.append(min(result[1]))\n",
    "    runtimesQ.append(result[2])\n",
    "    min_idx = np.argmin(result[1])\n",
    "    lidar_countsQ.append(sum(result[0][min_idx][:complexities[i]]))"
   ]
  },
  {
   "cell_type": "code",
   "execution_count": 46,
   "metadata": {},
   "outputs": [
    {
     "data": {
      "image/png": "[encoded data removed]",
      "text/plain": [
       "<Figure size 640x480 with 1 Axes>"
      ]
     },
     "metadata": {},
     "output_type": "display_data"
    }
   ],
   "source": [
    "fig, ax = plt.subplots()\n",
    "\n",
    "ax.plot(complexities, runtimesC, marker='o', linestyle = 'dashed', color = colors[0], label = 'PT')\n",
    "ax.plot(complexities, runtimesQ, marker='o', linestyle = 'dashed', color = colors[4], label = 'PTQ')\n",
    "ax.plot(complexities, cplex_solve_times, marker='o', linestyle = 'dashed', color = colors[2], label = 'CPLEX')\n",
    "ax.grid(True)\n",
    "ax.set_xlabel('System Complexity')\n",
    "ax.set_ylabel('Runtime in s')\n",
    "ax.set_title('Runtime Benchmarking')\n",
    "ax.legend()\n",
    "\n",
    "fig.savefig('runtime.pdf')"
   ]
  },
  {
   "cell_type": "code",
   "execution_count": 47,
   "metadata": {},
   "outputs": [
    {
     "data": {
      "image/png": "[encoded data removed]",
      "text/plain": [
       "<Figure size 640x480 with 1 Axes>"
      ]
     },
     "metadata": {},
     "output_type": "display_data"
    }
   ],
   "source": [
    "import matplotlib.pyplot as plt\n",
    "import numpy as np\n",
    "\n",
    "# Assumed data (please replace 'complexities', 'lidar_countsC', and 'lidar_countsQ' with your actual data)\n",
    "# complexities = ['Low', 'Medium', 'High', 'Very High']  # example categories for system complexity\n",
    "# lidar_countsC = [data for your PT counts]\n",
    "# lidar_countsQ = [data for your PTQ counts]\n",
    "\n",
    "\n",
    "# The positions of the x-axis ticks (the center of the bars as per each category)\n",
    "x = np.arange(len(complexities))  # array of x positions for each group of bars\n",
    "\n",
    "# Setting the width for each bar\n",
    "width = 0.25\n",
    "\n",
    "fig, ax = plt.subplots()\n",
    "\n",
    "# Creating bars for each group\n",
    "bars1 = ax.bar(x - width, lidar_countsC, width, label='PT', color=colors[0])\n",
    "bars2 = ax.bar(x , lidar_countsQ, width, label='PTQ', color=colors[4])\n",
    "bars3 = ax.bar(x + width, cplex_sol, width, label='CPLEX', color=colors[2])\n",
    "\n",
    "# Adding labels, title, and custom x-axis tick labels\n",
    "ax.set_xlabel('System Complexity')\n",
    "ax.set_ylabel('Lidar Counts')\n",
    "ax.set_title('Lidar Counts Benchmarking')\n",
    "ax.set_xticks(x)\n",
    "ax.set_xticklabels(complexities)\n",
    "ax.legend()\n",
    "# Display the plot\n",
    "plt.show()\n",
    "\n",
    "\n",
    "fig.savefig('lidar_counts.pdf')\n"
   ]
  },
  {
   "cell_type": "code",
   "execution_count": null,
   "metadata": {},
   "outputs": [],
   "source": []
  },
  {
   "cell_type": "code",
   "execution_count": null,
   "metadata": {},
   "outputs": [],
   "source": []
  }
 ],
 "metadata": {
  "kernelspec": {
   "display_name": "Python 3",
   "language": "python",
   "name": "python3"
  },
  "language_info": {
   "codemirror_mode": {
    "name": "ipython",
    "version": 3
   },
   "file_extension": ".py",
   "mimetype": "text/x-python",
   "name": "python",
   "nbconvert_exporter": "python",
   "pygments_lexer": "ipython3",
   "version": "3.11.10"
  }
 },
 "nbformat": 4,
 "nbformat_minor": 2
}
