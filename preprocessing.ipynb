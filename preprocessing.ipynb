{
 "cells": [
  {
   "cell_type": "code",
   "execution_count": 5,
   "metadata": {},
   "outputs": [],
   "source": [
    "import random\n",
    "import numpy as np\n",
    "from tqdm import tqdm\n",
    "import copy\n",
    "from pyqubo import Array, Constraint\n",
    "\n",
    "def generate_set_cover_problem(universe_size, num_subsets, coverage_prob):\n",
    "    \"\"\"\n",
    "    Generate a random Set Cover Problem instance.\n",
    "\n",
    "    Args:\n",
    "        universe_size (int): Number of elements in the universe U.\n",
    "        num_subsets (int): Number of subsets to generate.\n",
    "        coverage_prob (float): Probability that an element is included in a subset (sparsity).\n",
    "\n",
    "    Returns:\n",
    "        universe (set): The universe of elements U.\n",
    "        subsets (dict): A dictionary of subsets, where keys are subset indices and values are sets of elements.\n",
    "    \"\"\"\n",
    "    # Create the universe U\n",
    "    universe = {f\"e{i}\" for i in range(1, universe_size + 1)}\n",
    "    \n",
    "    # Generate subsets\n",
    "    subsets = {}\n",
    "    for i in range(1, num_subsets + 1):\n",
    "        subset = {e for e in universe if random.random() < coverage_prob}\n",
    "        subsets[i] = subset\n",
    "    \n",
    "    # Ensure the universe is fully covered (optional, enforce test cases)\n",
    "    for element in universe:\n",
    "        if not any(element in subsets[i] for i in subsets):\n",
    "            chosen_subset = random.choice(list(subsets.keys()))\n",
    "            subsets[chosen_subset].add(element)\n",
    "    \n",
    "    return universe, subsets\n",
    "\n",
    "# Example usage\n",
    "universe_size = 10   # Number of elements in the universe\n",
    "num_subsets = 5      # Number of subsets\n",
    "coverage_prob = 0.5  # Sparsity: Probability an element is in a subset\n",
    "\n",
    "universe, subsets = generate_set_cover_problem(universe_size, num_subsets, coverage_prob)\n",
    "\n",
    "\n",
    "\n",
    "def map_to_sets(input):\n",
    "    \"\"\"\n",
    "    Maps an np.array-based representation to a set-based representation.\n",
    "\n",
    "    Parameters:\n",
    "        input (tuple): A tuple containing:\n",
    "            - V_L: np.array of L nodes\n",
    "            - V_S: np.array of S nodes\n",
    "            - Edges: np.array adjacency matrix (L x S)\n",
    "\n",
    "    Returns:\n",
    "        tuple: universe (set of all elements), subsets (dict mapping L nodes to their subsets of S nodes)\n",
    "    \"\"\"\n",
    "    V_L, V_S, edges = input\n",
    "\n",
    "    universe = set()\n",
    "\n",
    "    for i in range(len(V_S)):\n",
    "        universe.add(f\"e{i+1}\")\n",
    "\n",
    "    subsets = {}\n",
    "\n",
    "    for i in range(len(V_L)):\n",
    "        subsets[i+1] = set()\n",
    "        for j in range(len(V_S)):\n",
    "            if edges[i, j] == 1:\n",
    "                subsets[i+1].add(f\"e{j+1}\")\n",
    "    return universe, subsets\n",
    "\n",
    "def maximum_coverage(universe, subsets, total):\n",
    "    \"\"\"\n",
    "    Compute the maximum coverage of each element in the universe.\n",
    "\n",
    "    Args:\n",
    "        universe (set): The universe of elements U.\n",
    "        subsets (dict): A dictionary of subsets, where keys are subset indices and values are sets of elements.\n",
    "        total (int): The total number of elements in the universe.\n",
    "\n",
    "    Returns:\n",
    "        np.array: An array of integers, where each element i is the maximum coverage of element i in the universe.\n",
    "    \"\"\"\n",
    "    length = len(universe)\n",
    "    result = np.zeros(length)\n",
    "    index = -1\n",
    "    for i in range(total):\n",
    "        curr = \"e\"+str(i+1)\n",
    "        if curr in universe:\n",
    "            index += 1\n",
    "            #print(\"curr\", curr)\n",
    "            for val in subsets.values():\n",
    "                # print(\"val\", val)\n",
    "                if curr in val:\n",
    "                    result[index] += 1\n",
    "\n",
    "    return result.astype(int)\n",
    "\n",
    "\n",
    "def preprocessing(universe, subsets):\n",
    "    \"\"\"\n",
    "    Preprocess the set cover problem instance by removing redundant subsets and fixing the definitely necessary sets.\n",
    "\n",
    "    Args:\n",
    "        universe (set): The universe of elements U.\n",
    "        subsets (dict): A dictionary of subsets, where keys are subset indices and values are sets of elements.\n",
    "\n",
    "    Returns:\n",
    "        tuple: universe (set of all elements), subsets (dict mapping L nodes to their subsets of S nodes),\n",
    "                already_true (dict of sets that are definitely necessary),\n",
    "                already_false (dict of sets that are definitely not necessary),\n",
    "                universe (set of all elements),\n",
    "                old_subsets (dict of the original subsets)\n",
    "    \"\"\"\n",
    "    old_subsets = copy.deepcopy(subsets)\n",
    "    # print(\"old\", old_subsets)\n",
    "    go = True\n",
    "    result = list(subsets.items())\n",
    "    # print(\"result\", result)\n",
    "    already_false = {}\n",
    "    already_true = {}\n",
    "    already_removed = set()\n",
    "    save = result.copy()\n",
    "\n",
    "    while go:\n",
    "\n",
    "        go = False\n",
    "\n",
    "        # Compare each set with every other set\n",
    "        for i, set1 in enumerate(result):\n",
    "            for j, set2 in enumerate(result):\n",
    "                # Skip comparing a set with itself\n",
    "                if i > j:\n",
    "                    if set1[1].issubset(set2[1]):\n",
    "                        already_false[save[i][0]] = save[i][1]\n",
    "                        break\n",
    "                    elif set2[1].issubset(set1[1]):\n",
    "                        already_false[save[j][0]] = save[j][1]\n",
    "                        break\n",
    "\n",
    "        result = [s if s not in already_false.items() else (s[0], set()) for s in result]\n",
    "\n",
    "        maxima = maximum_coverage(universe, {i: s for (i, s) in result}, len(universe))\n",
    "        # print(\"maxima\", maxima)\n",
    "        for i, m in enumerate(maxima):\n",
    "            if m not in already_removed and m == 1:\n",
    "                for j, s in enumerate(result):\n",
    "                    if 'e'+str(i+1) in s[1]:\n",
    "                        already_true[save[j][0]] = save[j][1]   \n",
    "                        for k in list(s[1]):\n",
    "                            for l, s2 in enumerate(result):\n",
    "                                if k in s2[1] and l != j:\n",
    "                                    go = True\n",
    "                                    result[l][1].remove(k)\n",
    "                            already_removed.add(k)\n",
    "                        break\n",
    "\n",
    "    length = len(result)\n",
    "    for i in range(length):\n",
    "        if not result[i]:\n",
    "            already_false.append(save[i])\n",
    "\n",
    "    new_result = []\n",
    "\n",
    "    for s in result:\n",
    "        if s[0] not in already_false and s[0] not in already_true:\n",
    "            new_result.append(s)\n",
    "\n",
    "    new_result = [s for s in result if s[0] not in already_false and s[0] not in already_true]\n",
    "\n",
    "    \n",
    "    # Remove the subset sets\n",
    "    return universe-already_removed, {s[0]: s[1] for s in new_result}, already_true, already_false, universe, old_subsets"
   ]
  },
  {
   "cell_type": "markdown",
   "metadata": {},
   "source": [
    "### Definition and solution of the problem using a classical algorithm"
   ]
  },
  {
   "cell_type": "code",
   "execution_count": 6,
   "metadata": {},
   "outputs": [
    {
     "name": "stdout",
     "output_type": "stream",
     "text": [
      "Universe (U): {'e4', 'e1', 'e6', 'e2', 'e5'}\n",
      "{3: {'e1', 'e6', 'e5', 'e4'}, 4: {'e1', 'e6', 'e2', 'e4'}, 6: {'e6', 'e2', 'e4', 'e5'}}\n",
      "Universe (U): {'e4', 'e1', 'e6', 'e2', 'e5'}\n",
      "\n",
      "Subsets (S):\n",
      "Subset 3: {'e1', 'e6', 'e5', 'e4'}\n",
      "Subset 4: {'e1', 'e6', 'e2', 'e4'}\n",
      "Subset 6: {'e6', 'e2', 'e4', 'e5'}\n",
      "[3, 4, 6]\n",
      "QUBO: BinaryQuadraticModel({'x[2]': -39.0, 'y[3]': 80.0, 'x[0]': -39.0, 'y[6]': 80.0, 'y[5]': 30.0, 'y[0]': 30.0, 'y[4]': 30.0, 'x[1]': -39.0, 'y[2]': 30.0, 'y[1]': 30.0}, {('y[3]', 'x[2]'): -40.0, ('x[0]', 'x[2]'): 60.0, ('x[0]', 'y[3]'): -40.0, ('y[6]', 'x[2]'): -40.0, ('y[6]', 'x[0]'): -40.0, ('y[5]', 'x[2]'): -20.0, ('y[5]', 'x[0]'): -20.0, ('y[5]', 'y[6]'): 40.0, ('y[0]', 'x[2]'): -20.0, ('y[0]', 'x[0]'): -20.0, ('y[4]', 'x[2]'): -20.0, ('x[1]', 'x[2]'): 60.0, ('x[1]', 'y[3]'): -40.0, ('x[1]', 'x[0]'): 60.0, ('x[1]', 'y[0]'): -20.0, ('x[1]', 'y[4]'): -20.0, ('y[2]', 'x[2]'): -20.0, ('y[2]', 'y[3]'): 40.0, ('y[2]', 'x[0]'): -20.0, ('y[2]', 'x[1]'): -20.0, ('y[1]', 'x[0]'): -20.0, ('y[1]', 'x[1]'): -20.0}, 50.0, 'BINARY')\n",
      "\n",
      "Best Solution:\n",
      "Subset x[0]: Selected\n",
      "Subset x[1]: Not Selected\n",
      "Subset x[2]: Selected\n",
      "Subset y[0]: Selected\n",
      "Subset y[1]: Not Selected\n",
      "Subset y[2]: Selected\n",
      "Subset y[3]: Not Selected\n",
      "Subset y[4]: Not Selected\n",
      "Subset y[5]: Selected\n",
      "Subset y[6]: Not Selected\n",
      "\n",
      "Energy: 2.0 + 1\n",
      "\n",
      "Decoded Solution: DecodedSolution({y[5]:1, y[4]:0, y[3]:0, y[2]:1, y[1]:0, y[0]:1, y[6]:0, x[2]:1, x[1]:0, x[0]:1}, energy=2.000000)\n"
     ]
    }
   ],
   "source": [
    "from pyqubo import Array, Constraint\n",
    "\n",
    "# Generate a random Set Cover Problem instance\n",
    "universe_size = 6\n",
    "num_subsets = 6\n",
    "coverage_prob = 0.5\n",
    "\n",
    "\n",
    "# Preprocess the problem instance\n",
    "universe, subsets, already_true, already_false, old_universe, old_subsets = preprocessing(*generate_set_cover_problem(universe_size, num_subsets, coverage_prob))\n",
    "\n",
    "# Trivially solve the problem if it is already solved\n",
    "if not universe or not subsets:\n",
    "    print(old_universe, already_true, already_false)\n",
    "    print(\"Already solved\")\n",
    "    res = [0]*num_subsets\n",
    "    print(\"already_true\", already_true)\n",
    "    for i, s in already_true.items():\n",
    "        res[i-1] = 1\n",
    "    print(\"Result:\", res)\n",
    "\n",
    "else:\n",
    "    print(\"Universe (U):\", universe)\n",
    "    print(subsets)\n",
    "\n",
    "    maxima = maximum_coverage(universe, subsets, len(old_universe))\n",
    "\n",
    "    num_bin = np.ceil(np.log2(maxima)).astype(int)\n",
    "\n",
    "    num_extra = int(np.sum(num_bin))\n",
    "\n",
    "    print(\"Universe (U):\", universe)\n",
    "    print(\"\\nSubsets (S):\")\n",
    "    for idx, subset in subsets.items():\n",
    "        print(f\"Subset {idx}: {subset}\")\n",
    "\n",
    "    # Map subsets to their elements\n",
    "    subset_indices = sorted(list(subsets.keys()))\n",
    "    print(subset_indices)\n",
    "    element_to_subsets = {e: [] for e in universe}\n",
    "\n",
    "    for subset, elements in subsets.items():\n",
    "        for e in elements:\n",
    "            element_to_subsets[e].append(subset)\n",
    "\n",
    "    # Define binary variables for each subset\n",
    "    x = Array.create('x', shape=len(subset_indices), vartype='BINARY')\n",
    "\n",
    "    y = Array.create('y', shape=int(np.sum(num_bin)), vartype='BINARY')\n",
    "\n",
    "    # Objective: Minimize the number of subsets selected\n",
    "    objective = sum(x[i] for i in range(len(subset_indices)))\n",
    "\n",
    "    # Constraints: Ensure each element is covered\n",
    "    constraints = []\n",
    "    offset = 0\n",
    "    for j, (e, covering_subsets) in enumerate(element_to_subsets.items()):\n",
    "        # print(\"covering_subsets\", covering_subsets)\n",
    "        constraint = sum(x[subset_indices.index(i)] for i in covering_subsets)\n",
    "        slack = sum(2**i*y[offset + i] for i in range(num_bin[j]))\n",
    "        constraints.append(Constraint((1 - constraint + slack)**2, label=f\"cover_{e}\"))\n",
    "        offset += int(num_bin[j])\n",
    "\n",
    "    # Combine objective and constraints into a QUBO model\n",
    "    alpha = 1.0  # Weight for the objective\n",
    "    beta = 10.0 # len(subsets) + 1   # Weight for the constraints\n",
    "    combined_expression = alpha * objective + beta * sum(constraints)\n",
    "\n",
    "    # Compile the expression to create a Model\n",
    "    qubo_model = combined_expression.compile()\n",
    "\n",
    "    bqm = qubo_model.to_bqm()\n",
    "\n",
    "    # Print the QUBO for visualization\n",
    "    print(\"QUBO:\", bqm)\n",
    "\n",
    "    # Solve the QUBO (e.g., using a classical solver)\n",
    "    from neal import SimulatedAnnealingSampler\n",
    "    sampler = SimulatedAnnealingSampler()\n",
    "    response = sampler.sample(bqm, num_reads=100)\n",
    "\n",
    "    # Extract the best solution\n",
    "    best_solution = response.first.sample\n",
    "    energy = response.first.energy\n",
    "\n",
    "    print(\"\\nBest Solution:\")\n",
    "    for i, val in best_solution.items():\n",
    "        print(f\"Subset {i}: {'Selected' if val == 1 else 'Not Selected'}\")\n",
    "    print(f\"\\nEnergy: {energy} + {len(already_true)}\")\n",
    "\n",
    "    # Decode the solution\n",
    "    decoded_solution = qubo_model.decode_sample(best_solution, vartype=\"BINARY\")\n",
    "    print(\"\\nDecoded Solution:\", decoded_solution)"
   ]
  },
  {
   "cell_type": "markdown",
   "metadata": {},
   "source": [
    "### Visualization of the corresponding bipartite graph"
   ]
  },
  {
   "cell_type": "code",
   "execution_count": 7,
   "metadata": {},
   "outputs": [
    {
     "name": "stdout",
     "output_type": "stream",
     "text": [
      "[(3, {'e1', 'e6', 'e5', 'e4'}), (4, {'e1', 'e6', 'e2', 'e4'}), (6, {'e6', 'e2', 'e4', 'e5'})]\n",
      "Fulfills condition:  True\n",
      "universe {'e4', 'e1', 'e6', 'e2', 'e5'}\n",
      "[{'e1', 'e5'}, {'e3'}, {'e1', 'e6', 'e5', 'e4'}, {'e1', 'e6', 'e2', 'e4'}, {'e5'}, {'e6', 'e2', 'e4', 'e5'}]\n",
      "[2, 3, 6]\n"
     ]
    },
    {
     "name": "stderr",
     "output_type": "stream",
     "text": [
      "/var/folders/zj/89qtcvw17sqblpw8pjkrvr3m0000gn/T/ipykernel_29315/1039907052.py:55: UserWarning: This figure includes Axes that are not compatible with tight_layout, so results might be incorrect.\n",
      "  plt.tight_layout()\n"
     ]
    },
    {
     "data": {
      "image/png": "[encoded data removed]",
      "text/plain": [
       "<Figure size 1200x800 with 1 Axes>"
      ]
     },
     "metadata": {},
     "output_type": "display_data"
    }
   ],
   "source": [
    "import networkx as nx\n",
    "import matplotlib.pyplot as plt\n",
    "\n",
    "\n",
    "def visualize_set_cover_qubo(sets, optimal_solution):\n",
    "    \"\"\"\n",
    "    Visualize the Set Cover QUBO problem as a bipartite graph.\n",
    "\n",
    "    Args:\n",
    "        sets (list): A list of sets, where each set is a list of elements.\n",
    "        optimal_solution (list): A list of subset indices that are part of the optimal solution.\n",
    "    \"\"\"\n",
    "    # Create a bipartite graph\n",
    "    G = nx.Graph()\n",
    "    \n",
    "    # Add nodes for sets (left side)\n",
    "    set_nodes = [f'Set {i}' for i in range(len(sets))]\n",
    "    G.add_nodes_from(set_nodes, bipartite=0)\n",
    "    \n",
    "    # Collect all unique elements (right side)\n",
    "    all_elements = set.union(*sets)\n",
    "    element_nodes = list(all_elements)\n",
    "    G.add_nodes_from(element_nodes, bipartite=1)\n",
    "    \n",
    "    # Add edges\n",
    "    for i, s in enumerate(sets):\n",
    "        for elem in s:\n",
    "            G.add_edge(f'Set {i}', elem)\n",
    "    \n",
    "    # Prepare for visualization\n",
    "    pos = nx.bipartite_layout(G, set_nodes)\n",
    "    \n",
    "    # Color mapping\n",
    "    node_colors = []\n",
    "    for node in G.nodes():\n",
    "        if node in set_nodes:\n",
    "            # Highlight sets in the optimal solution\n",
    "            color = 'red' if node in [f'Set {i-1}' for i in optimal_solution] else 'lightblue'\n",
    "            node_colors.append(color)\n",
    "        else:\n",
    "            node_colors.append('lightgreen')\n",
    "    \n",
    "    # Plot\n",
    "    plt.figure(figsize=(12, 8))\n",
    "    nx.draw(G, pos, \n",
    "            with_labels=True, \n",
    "            node_color=node_colors, \n",
    "            node_size=500, \n",
    "            font_size=8, \n",
    "            font_weight='bold')\n",
    "    \n",
    "    # Add a title explaining the visualization\n",
    "    plt.title(\"Set Cover QUBO Problem - Bipartite Graph\\nRed nodes are sets in the optimal solution\")\n",
    "    \n",
    "    plt.tight_layout()\n",
    "    plt.show()\n",
    "\n",
    "resulting_set = set()\n",
    "\n",
    "test = sorted(list(subsets.items()))\n",
    "\n",
    "print(test)\n",
    "\n",
    "result = [key for key in already_true.keys()]\n",
    "\n",
    "for i in range(len(subsets)):\n",
    "    if best_solution[f'x[{i}]']:\n",
    "        result.append(subset_indices[i])\n",
    "        resulting_set |= test[i][1]\n",
    "\n",
    "result = sorted(result)\n",
    "\n",
    "print(\"Fulfills condition: \", resulting_set==universe)\n",
    "\n",
    "all_sorted = sorted(list(old_subsets.items()))\n",
    "\n",
    "print(\"universe\", universe)\n",
    "\n",
    "print([s[1] for s in all_sorted])\n",
    "print(result)\n",
    "\n",
    "visualize_set_cover_qubo([s[1] for s in all_sorted], result)"
   ]
  },
  {
   "cell_type": "markdown",
   "metadata": {},
   "source": [
    "### Solving the problem using the dimod SimulatedAnnealingSampler"
   ]
  },
  {
   "cell_type": "code",
   "execution_count": 8,
   "metadata": {},
   "outputs": [
    {
     "name": "stdout",
     "output_type": "stream",
     "text": [
      "\n",
      "Best Solution (Simulated Annealing):\n",
      "Variable x[0]: 1\n",
      "Variable x[1]: 1\n",
      "Variable x[2]: 0\n",
      "Variable y[0]: 1\n",
      "Variable y[1]: 1\n",
      "Variable y[2]: 1\n",
      "Variable y[3]: 0\n",
      "Variable y[4]: 0\n",
      "Variable y[5]: 0\n",
      "Variable y[6]: 0\n",
      "\n",
      "Energy: 2.0 + 1\n"
     ]
    }
   ],
   "source": [
    "from dimod import BinaryQuadraticModel, SimulatedAnnealingSampler\n",
    "\n",
    "# Use the SimulatedAnnealingSampler from dimod for simulation\n",
    "sampler = SimulatedAnnealingSampler()\n",
    "response = sampler.sample(bqm, num_reads=100)\n",
    "\n",
    "# Extract the best solution\n",
    "best_solution = response.first.sample\n",
    "energy = response.first.energy\n",
    "\n",
    "print(\"\\nBest Solution (Simulated Annealing):\")\n",
    "for i, val in best_solution.items():\n",
    "    print(f\"Variable {i}: {'1' if val == 1 else '0'}\")\n",
    "print(f\"\\nEnergy: {energy} + {len(already_true)}\")"
   ]
  },
  {
   "cell_type": "markdown",
   "metadata": {},
   "source": [
    "### Solving the problem using QAOA"
   ]
  },
  {
   "cell_type": "code",
   "execution_count": 10,
   "metadata": {},
   "outputs": [
    {
     "name": "stdout",
     "output_type": "stream",
     "text": [
      "Linear coefficients: {'x[0]': -29.5, 'x[1]': -19.5, 'x[2]': -29.5, 'y[6]': 30.0, 'y[1]': 5.0, 'y[2]': 10.0, 'y[3]': 20.0, 'y[4]': 5.0, 'y[5]': 15.0}\n",
      "Quadratic coefficients: {('x[0]', 'x[1]'): 15.0, ('x[0]', 'y[1]'): -5.0, ('x[0]', 'y[0]'): -5.0, ('x[0]', 'x[2]'): 15.0, ('x[2]', 'y[4]'): -5.0, ('x[1]', 'y[0]'): -5.0, ('x[2]', 'y[2]'): -5.0, ('x[0]', 'y[6]'): -10.0, ('x[1]', 'x[2]'): 15.0, ('x[2]', 'y[3]'): -10.0, ('x[2]', 'y[5]'): -5.0, ('x[1]', 'y[1]'): -5.0, ('x[0]', 'y[3]'): -10.0, ('x[0]', 'y[5]'): -5.0, ('x[0]', 'y[2]'): -5.0, ('x[1]', 'y[3]'): -10.0, ('x[1]', 'y[2]'): -5.0, ('x[1]', 'y[4]'): -5.0, ('x[2]', 'y[0]'): -5.0, ('x[2]', 'y[6]'): -10.0, ('y[2]', 'y[3]'): 10.0, ('y[5]', 'y[6]'): 10.0}\n",
      "Energy offset: 101.5\n",
      "Hamiltonian:\n",
      "SparsePauliOp(['ZIIIIIIIII', 'IZIIIIIIII', 'IIZIIIIIII', 'IIIIIIIIIZ', 'IIIIZIIIII', 'IIIIIZIIII', 'IIIIIIZIII', 'IIIIIIIZII', 'IIIIIIIIZI', 'ZZIIIIIIII', 'ZIIIZIIIII', 'ZIIZIIIIII', 'ZIZIIIIIII', 'IIZIIIIZII', 'IZIZIIIIII', 'IIZIIZIIII', 'ZIIIIIIIIZ', 'IZZIIIIIII', 'IIZIIIZIII', 'IIZIIIIIZI', 'IZIIZIIIII', 'ZIIIIIZIII', 'ZIIIIIIIZI', 'ZIIIIZIIII', 'IZIIIIZIII', 'IZIIIZIIII', 'IZIIIIIZII', 'IIZZIIIIII', 'IIZIIIIIIZ', 'IIIIIZZIII', 'IIIIIIIIZZ'],\n",
      "              coeffs=[-29.5+0.j, -19.5+0.j, -29.5+0.j,  30. +0.j,   5. +0.j,  10. +0.j,\n",
      "  20. +0.j,   5. +0.j,  15. +0.j,  15. +0.j,  -5. +0.j,  -5. +0.j,\n",
      "  15. +0.j,  -5. +0.j,  -5. +0.j,  -5. +0.j, -10. +0.j,  15. +0.j,\n",
      " -10. +0.j,  -5. +0.j,  -5. +0.j, -10. +0.j,  -5. +0.j,  -5. +0.j,\n",
      " -10. +0.j,  -5. +0.j,  -5. +0.j,  -5. +0.j, -10. +0.j,  10. +0.j,\n",
      "  10. +0.j])\n"
     ]
    },
    {
     "name": "stderr",
     "output_type": "stream",
     "text": [
      "/var/folders/zj/89qtcvw17sqblpw8pjkrvr3m0000gn/T/ipykernel_29315/4108709220.py:61: DeprecationWarning: The class ``qiskit.primitives.sampler.Sampler`` is deprecated as of qiskit 1.2. It will be removed no earlier than 3 months after the release date. All implementations of the `BaseSamplerV1` interface have been deprecated in favor of their V2 counterparts. The V2 alternative for the `Sampler` class is `StatevectorSampler`.\n",
      "  qaoa = QAOA(sampler=Sampler(), optimizer=optimizer, reps=reps)\n"
     ]
    },
    {
     "name": "stdout",
     "output_type": "stream",
     "text": [
      "Eigenvector: 0000001011\n",
      "\n",
      "Best solution found:\n",
      "Minimum eigenvalue: (33+0j)\n",
      "Optimal bitstring: 0000001011\n"
     ]
    }
   ],
   "source": [
    "from qiskit import QuantumCircuit\n",
    "from qiskit_algorithms import QAOA\n",
    "from qiskit_algorithms.optimizers import COBYLA\n",
    "from qiskit.quantum_info import SparsePauliOp\n",
    "from qiskit.primitives import Sampler\n",
    "from qiskit_algorithms.utils import algorithm_globals\n",
    "from qiskit.quantum_info import Statevector\n",
    "\n",
    "# Set random seed for reproducibility\n",
    "algorithm_globals.random_seed = 42\n",
    "\n",
    "# Assuming qubo_model is already defined\n",
    "# Convert QUBO model to Ising representation\n",
    "linear, quadratic, offset = qubo_model.to_ising()\n",
    "\n",
    "lookup = {f'x[{i}]': i for i in range(len(subset_indices))}\n",
    "\n",
    "for i in range(num_extra):\n",
    "    lookup[f'y[{i}]'] = len(subset_indices) + i\n",
    "\n",
    "# Print the Ising model coefficients\n",
    "print(\"Linear coefficients:\", linear)\n",
    "print(\"Quadratic coefficients:\", quadratic)\n",
    "print(\"Energy offset:\", offset)\n",
    "\n",
    "# Construct the Hamiltonian for QAOA\n",
    "hamiltonian_terms = []\n",
    "\n",
    "\n",
    "num_qubits = len(subset_indices) + num_extra\n",
    "# Add linear terms\n",
    "for qubit, coefficient in linear.items():\n",
    "    new = [\"I\"]*num_qubits\n",
    "    new[lookup[qubit]] = 'Z'\n",
    "    hamiltonian_terms.append((\"\".join(new), coefficient)) \n",
    "\n",
    "\n",
    "\n",
    "# Add quadratic terms\n",
    "for (qubit1, qubit2), coefficient in quadratic.items():\n",
    "    if qubit1 != qubit2:\n",
    "        # Create an interaction term between two qubits\n",
    "        term = ['I'] * num_qubits\n",
    "        term[lookup[qubit1]] = 'Z'\n",
    "        term[lookup[qubit2]] = 'Z'\n",
    "\n",
    "        hamiltonian_terms.append((''.join(term), coefficient))\n",
    "\n",
    "# Create SparsePauliOp Hamiltonian\n",
    "hamiltonian = SparsePauliOp.from_list(hamiltonian_terms)\n",
    "\n",
    "# Print the Hamiltonian\n",
    "print(\"Hamiltonian:\")\n",
    "print(hamiltonian)\n",
    "\n",
    "# Set up QAOA parameters\n",
    "reps = 5  # Number of QAOA layers\n",
    "optimizer = COBYLA(maxiter=100)\n",
    "\n",
    "# Initialize QAOA\n",
    "qaoa = QAOA(sampler=Sampler(), optimizer=optimizer, reps=reps)\n",
    "\n",
    "# Run QAOA to find the minimum eigenvalue of the Hamiltonian\n",
    "result = qaoa.compute_minimum_eigenvalue(operator=hamiltonian)\n",
    "\n",
    "eigenvector = bin(max(result.eigenstate, key=result.eigenstate.get))[2:]\n",
    "\n",
    "eigenvector = eigenvector.zfill(num_qubits)\n",
    "\n",
    "print(\"Eigenvector:\", eigenvector)\n",
    "\n",
    "eigdict = {f\"x[{i}]\": int(eigenvector[i]) for i in range(len(subset_indices))}\n",
    "\n",
    "for i in range(num_extra):\n",
    "    eigdict[f\"y[{i}]\"] = int(eigenvector[len(subset_indices) + i])  \n",
    "\n",
    "# Display the result\n",
    "print(\"\\nBest solution found:\")\n",
    "print(f\"Minimum eigenvalue: {Statevector.from_label(eigenvector).expectation_value(hamiltonian)+offset}\")\n",
    "print(\"Optimal bitstring:\", eigenvector)"
   ]
  },
  {
   "cell_type": "markdown",
   "metadata": {},
   "source": [
    "### Solving the problem on an analogue quantum device"
   ]
  },
  {
   "cell_type": "code",
   "execution_count": 11,
   "metadata": {},
   "outputs": [
    {
     "name": "stdout",
     "output_type": "stream",
     "text": [
      "\n",
      "Best Solution on D-Wave:\n",
      "Subset x[0]: Selected\n",
      "Subset x[1]: Selected\n",
      "Subset x[2]: Not Selected\n",
      "Subset y[0]: Selected\n",
      "Subset y[1]: Selected\n",
      "Subset y[2]: Selected\n",
      "Subset y[3]: Not Selected\n",
      "Subset y[4]: Not Selected\n",
      "Subset y[5]: Not Selected\n",
      "Subset y[6]: Not Selected\n",
      "\n",
      "Energy: 2.0 + 1\n"
     ]
    }
   ],
   "source": [
    "from dwave.system import EmbeddingComposite, DWaveSampler\n",
    "\n",
    "\n",
    "dwave_token = \"DEV-fbd89b618f4d7e7cb055489c62dfae7e1b1912e0\"\n",
    "\n",
    "sampler = EmbeddingComposite(DWaveSampler(token=dwave_token))\n",
    "response = sampler.sample(bqm, num_reads=100)\n",
    "\n",
    "best_solution = response.first.sample\n",
    "energy = response.first.energy\n",
    "\n",
    "print(\"\\nBest Solution on D-Wave:\")\n",
    "for i, val in best_solution.items():\n",
    "    print(f\"Subset {i}: {'Selected' if val == 1 else 'Not Selected'}\")\n",
    "print(f\"\\nEnergy: {energy} + {len(already_true)}\")"
   ]
  },
  {
   "cell_type": "markdown",
   "metadata": {},
   "source": [
    "### Define a pipeline to run the different optimization algorithms for multiple rounds and then compare them"
   ]
  },
  {
   "cell_type": "code",
   "execution_count": null,
   "metadata": {},
   "outputs": [],
   "source": [
    "import numpy as np\n",
    "from tqdm import tqdm\n",
    "def pipeline(sizearray, runs=100, preprocess=False):\n",
    "    output = np.zeros((len(sizearray), 2, runs))\n",
    "    for m, size in enumerate(sizearray):\n",
    "        print(\"Size: \", size)\n",
    "        for n in tqdm(range(runs)):\n",
    "            universe, subsets = generate_set_cover_problem(size, size, 0.5)\n",
    "            old_universe = copy.deepcopy(universe)\n",
    "            old_subsets = copy.deepcopy(subsets)\n",
    "            already_false = {}\n",
    "            already_true = {}\n",
    "            if preprocess:\n",
    "                universe, subsets, already_true, already_false, old_universe, old_subsets = preprocessing(universe, subsets)\n",
    "            if not universe or not subsets:\n",
    "                res = [0]*size\n",
    "                for i, s in already_true.items():\n",
    "                    res[i-1] = 1\n",
    "                output[m, :, n] = 2*[sum(res)]\n",
    "            else:\n",
    "                maxima = maximum_coverage(universe, subsets, len(old_universe))\n",
    "                num_bin = np.ceil(np.log2(maxima)).astype(int)\n",
    "                num_extra = int(np.sum(num_bin))\n",
    "                subset_indices = sorted(list(subsets.keys()))\n",
    "                element_to_subsets = {e: [] for e in universe}\n",
    "                for subset, elements in subsets.items():\n",
    "                    for e in elements:\n",
    "                        element_to_subsets[e].append(subset)\n",
    "                x = Array.create('x', shape=len(subset_indices), vartype='BINARY')\n",
    "                y = Array.create('y', shape=int(np.sum(num_bin)), vartype='BINARY') if int(np.sum(num_bin)) else []\n",
    "                objective = sum(x[i] for i in range(len(subset_indices)))\n",
    "                constraints = []\n",
    "                offset = 0\n",
    "                for j, (e, covering_subsets) in enumerate(element_to_subsets.items()):\n",
    "                    constraint = sum(x[subset_indices.index(i)] for i in covering_subsets)\n",
    "                    slack = sum(2**i*y[offset + i] for i in range(num_bin[j])) if y else 0\n",
    "                    constraints.append(Constraint((1 - constraint + slack)**2, label=f\"cover_{e}\"))\n",
    "                    offset += int(num_bin[j])\n",
    "                alpha = 1.0\n",
    "                beta = 10.0\n",
    "                combined_expression = alpha * objective + beta * sum(constraints)\n",
    "                qubo_model = combined_expression.compile()\n",
    "                bqm = qubo_model.to_bqm()\n",
    "\n",
    "                # Solve the QUBO (e.g., using a classical solver)\n",
    "                from neal import SimulatedAnnealingSampler\n",
    "                sampler = SimulatedAnnealingSampler()\n",
    "                response = sampler.sample(bqm, num_reads=100)\n",
    "\n",
    "                # Extract the best solution\n",
    "                best_solution = response.first.sample\n",
    "                energy = response.first.energy\n",
    "\n",
    "\n",
    "                output[m, 0, n] = energy + len(already_true)\n",
    "\n",
    "                # Decode the solution\n",
    "                decoded_solution = qubo_model.decode_sample(best_solution, vartype=\"BINARY\")\n",
    "                from dwave.system import EmbeddingComposite, DWaveSampler\n",
    "                dwave_token = \"DEV-fbd89b618f4d7e7cb055489c62dfae7e1b1912e0\"\n",
    "                sampler = EmbeddingComposite(DWaveSampler(token=dwave_token))\n",
    "                response = sampler.sample(bqm, num_reads=100)\n",
    "                best_solution = response.first.sample\n",
    "                energy = response.first.energy\n",
    "                output[m, -1, n] = energy + len(already_true)\n",
    "    return output"
   ]
  },
  {
   "cell_type": "markdown",
   "metadata": {},
   "source": [
    "### Execute pipeline"
   ]
  },
  {
   "cell_type": "code",
   "execution_count": 14,
   "metadata": {},
   "outputs": [
    {
     "name": "stdout",
     "output_type": "stream",
     "text": [
      "Size:  1\n"
     ]
    },
    {
     "name": "stderr",
     "output_type": "stream",
     "text": [
      "100%|██████████| 10/10 [00:26<00:00,  2.68s/it]\n"
     ]
    },
    {
     "name": "stdout",
     "output_type": "stream",
     "text": [
      "Size:  2\n"
     ]
    },
    {
     "name": "stderr",
     "output_type": "stream",
     "text": [
      "100%|██████████| 10/10 [00:27<00:00,  2.74s/it]\n"
     ]
    },
    {
     "name": "stdout",
     "output_type": "stream",
     "text": [
      "Size:  3\n"
     ]
    },
    {
     "name": "stderr",
     "output_type": "stream",
     "text": [
      "100%|██████████| 10/10 [00:26<00:00,  2.61s/it]\n"
     ]
    },
    {
     "name": "stdout",
     "output_type": "stream",
     "text": [
      "Size:  4\n"
     ]
    },
    {
     "name": "stderr",
     "output_type": "stream",
     "text": [
      "100%|██████████| 10/10 [00:27<00:00,  2.77s/it]\n"
     ]
    },
    {
     "name": "stdout",
     "output_type": "stream",
     "text": [
      "Size:  5\n"
     ]
    },
    {
     "name": "stderr",
     "output_type": "stream",
     "text": [
      "100%|██████████| 10/10 [00:27<00:00,  2.75s/it]\n"
     ]
    },
    {
     "name": "stdout",
     "output_type": "stream",
     "text": [
      "Size:  6\n"
     ]
    },
    {
     "name": "stderr",
     "output_type": "stream",
     "text": [
      "100%|██████████| 10/10 [00:27<00:00,  2.72s/it]\n"
     ]
    },
    {
     "name": "stdout",
     "output_type": "stream",
     "text": [
      "Size:  7\n"
     ]
    },
    {
     "name": "stderr",
     "output_type": "stream",
     "text": [
      "100%|██████████| 10/10 [00:29<00:00,  2.90s/it]\n"
     ]
    },
    {
     "name": "stdout",
     "output_type": "stream",
     "text": [
      "Size:  8\n"
     ]
    },
    {
     "name": "stderr",
     "output_type": "stream",
     "text": [
      "100%|██████████| 10/10 [00:27<00:00,  2.80s/it]\n"
     ]
    },
    {
     "name": "stdout",
     "output_type": "stream",
     "text": [
      "Size:  9\n"
     ]
    },
    {
     "name": "stderr",
     "output_type": "stream",
     "text": [
      "100%|██████████| 10/10 [00:29<00:00,  2.95s/it]\n"
     ]
    },
    {
     "name": "stdout",
     "output_type": "stream",
     "text": [
      "Size:  10\n"
     ]
    },
    {
     "name": "stderr",
     "output_type": "stream",
     "text": [
      "100%|██████████| 10/10 [00:33<00:00,  3.33s/it]\n"
     ]
    }
   ],
   "source": [
    "sizearray = np.arange(1, 11, 1)\n",
    "\n",
    "preprocess = False\n",
    "\n",
    "output = pipeline(sizearray, runs=10, preprocess=preprocess)"
   ]
  },
  {
   "cell_type": "markdown",
   "metadata": {},
   "source": [
    "### Save the data in as .npy"
   ]
  },
  {
   "cell_type": "code",
   "execution_count": null,
   "metadata": {},
   "outputs": [],
   "source": [
    "# Save to file\n",
    "import datetime\n",
    "current_date = datetime.datetime.now().strftime(\"%Y-%m-%d_%H-%M-%S\")\n",
    "np.save(f\"{current_date}_({sizearray[0]},{sizearray[-1]})_preprocess={preprocess}.npy\", output)"
   ]
  },
  {
   "cell_type": "markdown",
   "metadata": {},
   "source": [
    "### Import combined data and plot"
   ]
  },
  {
   "cell_type": "code",
   "execution_count": null,
   "metadata": {},
   "outputs": [
    {
     "data": {
      "image/png": "[encoded data removed]",
      "text/plain": [
       "<Figure size 640x480 with 1 Axes>"
      ]
     },
     "metadata": {},
     "output_type": "display_data"
    }
   ],
   "source": [
    "names = [\"2024-12-01_08-50-12_(1,10)_preprocess=True.npy\", \"2024-12-01_09-18-45_(11,20)_preprocess=True.npy\", \"2024-12-01_09-57-44_(1,10)_preprocess=False.npy\", \"2024-12-01_09-48-36_(11,20)_preprocess=False.npy\"]\n",
    "\n",
    "outputs = [np.load(name) for name in names]\n",
    "new_true = np.zeros((20, 3, 10))\n",
    "new_true[:10, :2, :] = outputs[0]\n",
    "new_true[10:, :2, :] = outputs[1]\n",
    "new_true[:10, 2, :] = outputs[2][:, 1, :]\n",
    "new_true[10:, 2, :] = outputs[3][:, 1, :]\n",
    "\n",
    "\n",
    "import matplotlib.pyplot as plt\n",
    "\n",
    "# colors\n",
    "color_red = \"#e64b35\"\n",
    "color_light_red = \"#f39b7f\"\n",
    "color_green = \"#00a087\"\n",
    "color_lightblue = \"#4dbbd5\"\n",
    "color_blue = \"#3c5488\"\n",
    "colors = [color_blue, color_lightblue, color_green, color_light_red, color_red]\n",
    "\n",
    "fig, ax = plt.subplots()\n",
    "\n",
    "ax.plot(np.arange(1, 21, 1), np.mean(new_true[:, 0], axis=-1), marker='o', linestyle = 'dashed', color = colors[0], label = 'Optimal Solution')\n",
    "ax.plot(np.arange(1, 21, 1), np.mean(new_true[:, 1], axis=-1), marker='o', linestyle = 'dashed', color = colors[2], label = 'D-Wave Quantum Annealing with preprocessing')\n",
    "ax.plot(np.arange(1, 21, 1), np.mean(new_true[:, 2], axis=-1), marker='o', linestyle = 'dashed', color = colors[3], label = 'D-Wave Quantum Annealing without preprocessing')\n",
    "ax.grid(True)\n",
    "ax.set_xlabel('System Complexity')\n",
    "ax.set_ylabel('Energy')\n",
    "ax.set_title('Energy vs System Complexity')\n",
    "ax.legend()\n",
    "\n",
    "fig.savefig('runtime.pdf')\n"
   ]
  }
 ],
 "metadata": {
  "kernelspec": {
   "display_name": ".venv",
   "language": "python",
   "name": "python3"
  },
  "language_info": {
   "codemirror_mode": {
    "name": "ipython",
    "version": 3
   },
   "file_extension": ".py",
   "mimetype": "text/x-python",
   "name": "python",
   "nbconvert_exporter": "python",
   "pygments_lexer": "ipython3",
   "version": "3.13.0"
  }
 },
 "nbformat": 4,
 "nbformat_minor": 2
}
